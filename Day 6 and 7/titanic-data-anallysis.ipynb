{
 "cells": [
  {
   "cell_type": "code",
   "execution_count": 1,
   "id": "25c891fb",
   "metadata": {
    "_cell_guid": "b1076dfc-b9ad-4769-8c92-a6c4dae69d19",
    "_uuid": "8f2839f25d086af736a60e9eeb907d3b93b6e0e5",
    "execution": {
     "iopub.execute_input": "2022-03-03T14:16:13.613222Z",
     "iopub.status.busy": "2022-03-03T14:16:13.611914Z",
     "iopub.status.idle": "2022-03-03T14:16:14.681768Z",
     "shell.execute_reply": "2022-03-03T14:16:14.681113Z",
     "shell.execute_reply.started": "2022-03-03T13:52:19.454748Z"
    },
    "papermill": {
     "duration": 1.128106,
     "end_time": "2022-03-03T14:16:14.681945",
     "exception": false,
     "start_time": "2022-03-03T14:16:13.553839",
     "status": "completed"
    },
    "tags": []
   },
   "outputs": [],
   "source": [
    "import numpy as np\n",
    "import pandas as pd\n",
    "import seaborn as sns\n",
    "import matplotlib.pyplot as plt"
   ]
  },
  {
   "cell_type": "code",
   "execution_count": 2,
   "id": "27eae462",
   "metadata": {
    "execution": {
     "iopub.execute_input": "2022-03-03T14:16:14.792297Z",
     "iopub.status.busy": "2022-03-03T14:16:14.791707Z",
     "iopub.status.idle": "2022-03-03T14:16:14.810519Z",
     "shell.execute_reply": "2022-03-03T14:16:14.809948Z",
     "shell.execute_reply.started": "2022-03-03T13:52:19.461869Z"
    },
    "papermill": {
     "duration": 0.074704,
     "end_time": "2022-03-03T14:16:14.810688",
     "exception": false,
     "start_time": "2022-03-03T14:16:14.735984",
     "status": "completed"
    },
    "tags": []
   },
   "outputs": [],
   "source": [
    "#To read/import dataset\n",
    "data=pd.read_csv(\"tested.csv\")"
   ]
  },
  {
   "cell_type": "code",
   "execution_count": 3,
   "id": "95ac7791",
   "metadata": {
    "execution": {
     "iopub.execute_input": "2022-03-03T14:16:14.926049Z",
     "iopub.status.busy": "2022-03-03T14:16:14.925423Z",
     "iopub.status.idle": "2022-03-03T14:16:14.944254Z",
     "shell.execute_reply": "2022-03-03T14:16:14.944769Z",
     "shell.execute_reply.started": "2022-03-03T13:52:19.481642Z"
    },
    "papermill": {
     "duration": 0.07965,
     "end_time": "2022-03-03T14:16:14.944942",
     "exception": false,
     "start_time": "2022-03-03T14:16:14.865292",
     "status": "completed"
    },
    "tags": []
   },
   "outputs": [
    {
     "data": {
      "text/html": [
       "<div>\n",
       "<style scoped>\n",
       "    .dataframe tbody tr th:only-of-type {\n",
       "        vertical-align: middle;\n",
       "    }\n",
       "\n",
       "    .dataframe tbody tr th {\n",
       "        vertical-align: top;\n",
       "    }\n",
       "\n",
       "    .dataframe thead th {\n",
       "        text-align: right;\n",
       "    }\n",
       "</style>\n",
       "<table border=\"1\" class=\"dataframe\">\n",
       "  <thead>\n",
       "    <tr style=\"text-align: right;\">\n",
       "      <th></th>\n",
       "      <th>PassengerId</th>\n",
       "      <th>Survived</th>\n",
       "      <th>Pclass</th>\n",
       "      <th>Name</th>\n",
       "      <th>Sex</th>\n",
       "      <th>Age</th>\n",
       "      <th>SibSp</th>\n",
       "      <th>Parch</th>\n",
       "      <th>Ticket</th>\n",
       "      <th>Fare</th>\n",
       "      <th>Cabin</th>\n",
       "      <th>Embarked</th>\n",
       "    </tr>\n",
       "  </thead>\n",
       "  <tbody>\n",
       "    <tr>\n",
       "      <th>408</th>\n",
       "      <td>1300</td>\n",
       "      <td>1</td>\n",
       "      <td>3</td>\n",
       "      <td>Riordan, Miss. Johanna Hannah\"\"</td>\n",
       "      <td>female</td>\n",
       "      <td>NaN</td>\n",
       "      <td>0</td>\n",
       "      <td>0</td>\n",
       "      <td>334915</td>\n",
       "      <td>7.7208</td>\n",
       "      <td>NaN</td>\n",
       "      <td>Q</td>\n",
       "    </tr>\n",
       "    <tr>\n",
       "      <th>409</th>\n",
       "      <td>1301</td>\n",
       "      <td>1</td>\n",
       "      <td>3</td>\n",
       "      <td>Peacock, Miss. Treasteall</td>\n",
       "      <td>female</td>\n",
       "      <td>3.0</td>\n",
       "      <td>1</td>\n",
       "      <td>1</td>\n",
       "      <td>SOTON/O.Q. 3101315</td>\n",
       "      <td>13.7750</td>\n",
       "      <td>NaN</td>\n",
       "      <td>S</td>\n",
       "    </tr>\n",
       "    <tr>\n",
       "      <th>410</th>\n",
       "      <td>1302</td>\n",
       "      <td>1</td>\n",
       "      <td>3</td>\n",
       "      <td>Naughton, Miss. Hannah</td>\n",
       "      <td>female</td>\n",
       "      <td>NaN</td>\n",
       "      <td>0</td>\n",
       "      <td>0</td>\n",
       "      <td>365237</td>\n",
       "      <td>7.7500</td>\n",
       "      <td>NaN</td>\n",
       "      <td>Q</td>\n",
       "    </tr>\n",
       "    <tr>\n",
       "      <th>411</th>\n",
       "      <td>1303</td>\n",
       "      <td>1</td>\n",
       "      <td>1</td>\n",
       "      <td>Minahan, Mrs. William Edward (Lillian E Thorpe)</td>\n",
       "      <td>female</td>\n",
       "      <td>37.0</td>\n",
       "      <td>1</td>\n",
       "      <td>0</td>\n",
       "      <td>19928</td>\n",
       "      <td>90.0000</td>\n",
       "      <td>C78</td>\n",
       "      <td>Q</td>\n",
       "    </tr>\n",
       "    <tr>\n",
       "      <th>412</th>\n",
       "      <td>1304</td>\n",
       "      <td>1</td>\n",
       "      <td>3</td>\n",
       "      <td>Henriksson, Miss. Jenny Lovisa</td>\n",
       "      <td>female</td>\n",
       "      <td>28.0</td>\n",
       "      <td>0</td>\n",
       "      <td>0</td>\n",
       "      <td>347086</td>\n",
       "      <td>7.7750</td>\n",
       "      <td>NaN</td>\n",
       "      <td>S</td>\n",
       "    </tr>\n",
       "    <tr>\n",
       "      <th>413</th>\n",
       "      <td>1305</td>\n",
       "      <td>0</td>\n",
       "      <td>3</td>\n",
       "      <td>Spector, Mr. Woolf</td>\n",
       "      <td>male</td>\n",
       "      <td>NaN</td>\n",
       "      <td>0</td>\n",
       "      <td>0</td>\n",
       "      <td>A.5. 3236</td>\n",
       "      <td>8.0500</td>\n",
       "      <td>NaN</td>\n",
       "      <td>S</td>\n",
       "    </tr>\n",
       "    <tr>\n",
       "      <th>414</th>\n",
       "      <td>1306</td>\n",
       "      <td>1</td>\n",
       "      <td>1</td>\n",
       "      <td>Oliva y Ocana, Dona. Fermina</td>\n",
       "      <td>female</td>\n",
       "      <td>39.0</td>\n",
       "      <td>0</td>\n",
       "      <td>0</td>\n",
       "      <td>PC 17758</td>\n",
       "      <td>108.9000</td>\n",
       "      <td>C105</td>\n",
       "      <td>C</td>\n",
       "    </tr>\n",
       "    <tr>\n",
       "      <th>415</th>\n",
       "      <td>1307</td>\n",
       "      <td>0</td>\n",
       "      <td>3</td>\n",
       "      <td>Saether, Mr. Simon Sivertsen</td>\n",
       "      <td>male</td>\n",
       "      <td>38.5</td>\n",
       "      <td>0</td>\n",
       "      <td>0</td>\n",
       "      <td>SOTON/O.Q. 3101262</td>\n",
       "      <td>7.2500</td>\n",
       "      <td>NaN</td>\n",
       "      <td>S</td>\n",
       "    </tr>\n",
       "    <tr>\n",
       "      <th>416</th>\n",
       "      <td>1308</td>\n",
       "      <td>0</td>\n",
       "      <td>3</td>\n",
       "      <td>Ware, Mr. Frederick</td>\n",
       "      <td>male</td>\n",
       "      <td>NaN</td>\n",
       "      <td>0</td>\n",
       "      <td>0</td>\n",
       "      <td>359309</td>\n",
       "      <td>8.0500</td>\n",
       "      <td>NaN</td>\n",
       "      <td>S</td>\n",
       "    </tr>\n",
       "    <tr>\n",
       "      <th>417</th>\n",
       "      <td>1309</td>\n",
       "      <td>0</td>\n",
       "      <td>3</td>\n",
       "      <td>Peter, Master. Michael J</td>\n",
       "      <td>male</td>\n",
       "      <td>NaN</td>\n",
       "      <td>1</td>\n",
       "      <td>1</td>\n",
       "      <td>2668</td>\n",
       "      <td>22.3583</td>\n",
       "      <td>NaN</td>\n",
       "      <td>C</td>\n",
       "    </tr>\n",
       "  </tbody>\n",
       "</table>\n",
       "</div>"
      ],
      "text/plain": [
       "     PassengerId  Survived  Pclass  \\\n",
       "408         1300         1       3   \n",
       "409         1301         1       3   \n",
       "410         1302         1       3   \n",
       "411         1303         1       1   \n",
       "412         1304         1       3   \n",
       "413         1305         0       3   \n",
       "414         1306         1       1   \n",
       "415         1307         0       3   \n",
       "416         1308         0       3   \n",
       "417         1309         0       3   \n",
       "\n",
       "                                                Name     Sex   Age  SibSp  \\\n",
       "408                  Riordan, Miss. Johanna Hannah\"\"  female   NaN      0   \n",
       "409                        Peacock, Miss. Treasteall  female   3.0      1   \n",
       "410                           Naughton, Miss. Hannah  female   NaN      0   \n",
       "411  Minahan, Mrs. William Edward (Lillian E Thorpe)  female  37.0      1   \n",
       "412                   Henriksson, Miss. Jenny Lovisa  female  28.0      0   \n",
       "413                               Spector, Mr. Woolf    male   NaN      0   \n",
       "414                     Oliva y Ocana, Dona. Fermina  female  39.0      0   \n",
       "415                     Saether, Mr. Simon Sivertsen    male  38.5      0   \n",
       "416                              Ware, Mr. Frederick    male   NaN      0   \n",
       "417                         Peter, Master. Michael J    male   NaN      1   \n",
       "\n",
       "     Parch              Ticket      Fare Cabin Embarked  \n",
       "408      0              334915    7.7208   NaN        Q  \n",
       "409      1  SOTON/O.Q. 3101315   13.7750   NaN        S  \n",
       "410      0              365237    7.7500   NaN        Q  \n",
       "411      0               19928   90.0000   C78        Q  \n",
       "412      0              347086    7.7750   NaN        S  \n",
       "413      0           A.5. 3236    8.0500   NaN        S  \n",
       "414      0            PC 17758  108.9000  C105        C  \n",
       "415      0  SOTON/O.Q. 3101262    7.2500   NaN        S  \n",
       "416      0              359309    8.0500   NaN        S  \n",
       "417      1                2668   22.3583   NaN        C  "
      ]
     },
     "execution_count": 3,
     "metadata": {},
     "output_type": "execute_result"
    }
   ],
   "source": [
    "#To Know last 10 elements\n",
    "data.tail(10)\n"
   ]
  },
  {
   "cell_type": "code",
   "execution_count": 4,
   "id": "47f66780",
   "metadata": {
    "execution": {
     "iopub.execute_input": "2022-03-03T14:16:15.054694Z",
     "iopub.status.busy": "2022-03-03T14:16:15.053822Z",
     "iopub.status.idle": "2022-03-03T14:16:15.080080Z",
     "shell.execute_reply": "2022-03-03T14:16:15.079411Z",
     "shell.execute_reply.started": "2022-03-03T13:52:19.498675Z"
    },
    "papermill": {
     "duration": 0.082106,
     "end_time": "2022-03-03T14:16:15.080231",
     "exception": false,
     "start_time": "2022-03-03T14:16:14.998125",
     "status": "completed"
    },
    "tags": []
   },
   "outputs": [
    {
     "name": "stdout",
     "output_type": "stream",
     "text": [
      "<class 'pandas.core.frame.DataFrame'>\n",
      "RangeIndex: 418 entries, 0 to 417\n",
      "Data columns (total 12 columns):\n",
      " #   Column       Non-Null Count  Dtype  \n",
      "---  ------       --------------  -----  \n",
      " 0   PassengerId  418 non-null    int64  \n",
      " 1   Survived     418 non-null    int64  \n",
      " 2   Pclass       418 non-null    int64  \n",
      " 3   Name         418 non-null    object \n",
      " 4   Sex          418 non-null    object \n",
      " 5   Age          332 non-null    float64\n",
      " 6   SibSp        418 non-null    int64  \n",
      " 7   Parch        418 non-null    int64  \n",
      " 8   Ticket       418 non-null    object \n",
      " 9   Fare         417 non-null    float64\n",
      " 10  Cabin        91 non-null     object \n",
      " 11  Embarked     418 non-null    object \n",
      "dtypes: float64(2), int64(5), object(5)\n",
      "memory usage: 39.3+ KB\n"
     ]
    }
   ],
   "source": [
    "data.info()"
   ]
  },
  {
   "cell_type": "code",
   "execution_count": 5,
   "id": "462960a2",
   "metadata": {
    "execution": {
     "iopub.execute_input": "2022-03-03T14:16:15.196890Z",
     "iopub.status.busy": "2022-03-03T14:16:15.196261Z",
     "iopub.status.idle": "2022-03-03T14:16:15.198852Z",
     "shell.execute_reply": "2022-03-03T14:16:15.198424Z",
     "shell.execute_reply.started": "2022-03-03T13:52:19.518070Z"
    },
    "papermill": {
     "duration": 0.063956,
     "end_time": "2022-03-03T14:16:15.198987",
     "exception": false,
     "start_time": "2022-03-03T14:16:15.135031",
     "status": "completed"
    },
    "tags": []
   },
   "outputs": [],
   "source": [
    "#How many survived\n",
    "num=data[data['Survived']==1]['Survived'].count()"
   ]
  },
  {
   "cell_type": "code",
   "execution_count": 6,
   "id": "3f3da33f",
   "metadata": {
    "execution": {
     "iopub.execute_input": "2022-03-03T14:16:15.312112Z",
     "iopub.status.busy": "2022-03-03T14:16:15.311469Z",
     "iopub.status.idle": "2022-03-03T14:16:15.486788Z",
     "shell.execute_reply": "2022-03-03T14:16:15.486198Z",
     "shell.execute_reply.started": "2022-03-03T13:52:19.525783Z"
    },
    "papermill": {
     "duration": 0.233915,
     "end_time": "2022-03-03T14:16:15.486934",
     "exception": false,
     "start_time": "2022-03-03T14:16:15.253019",
     "status": "completed"
    },
    "tags": []
   },
   "outputs": [
    {
     "data": {
      "text/plain": [
       "<AxesSubplot:>"
      ]
     },
     "execution_count": 6,
     "metadata": {},
     "output_type": "execute_result"
    },
    {
     "data": {
      "image/png": "[encoded data removed]",
      "text/plain": [
       "<Figure size 432x288 with 1 Axes>"
      ]
     },
     "metadata": {
      "needs_background": "light"
     },
     "output_type": "display_data"
    }
   ],
   "source": [
    "#Survived\n",
    "survival=data['Survived'].value_counts()\n",
    "survival.plot(kind='bar',color='blue')"
   ]
  },
  {
   "cell_type": "code",
   "execution_count": 7,
   "id": "672bd1e9",
   "metadata": {
    "execution": {
     "iopub.execute_input": "2022-03-03T14:16:15.598555Z",
     "iopub.status.busy": "2022-03-03T14:16:15.597973Z",
     "iopub.status.idle": "2022-03-03T14:16:15.762254Z",
     "shell.execute_reply": "2022-03-03T14:16:15.762715Z",
     "shell.execute_reply.started": "2022-03-03T13:52:19.697744Z"
    },
    "papermill": {
     "duration": 0.222038,
     "end_time": "2022-03-03T14:16:15.762877",
     "exception": false,
     "start_time": "2022-03-03T14:16:15.540839",
     "status": "completed"
    },
    "tags": []
   },
   "outputs": [
    {
     "data": {
      "text/plain": [
       "<AxesSubplot:>"
      ]
     },
     "execution_count": 7,
     "metadata": {},
     "output_type": "execute_result"
    },
    {
     "data": {
      "image/png": "[encoded data removed]",
      "text/plain": [
       "<Figure size 432x288 with 1 Axes>"
      ]
     },
     "metadata": {
      "needs_background": "light"
     },
     "output_type": "display_data"
    }
   ],
   "source": [
    "#Survived\n",
    "survival=data['Survived'].value_counts()\n",
    "survival.plot(kind='bar',color='blue')"
   ]
  },
  {
   "cell_type": "code",
   "execution_count": 8,
   "id": "ecc47173",
   "metadata": {
    "execution": {
     "iopub.execute_input": "2022-03-03T14:16:15.877096Z",
     "iopub.status.busy": "2022-03-03T14:16:15.876491Z",
     "iopub.status.idle": "2022-03-03T14:16:15.884950Z",
     "shell.execute_reply": "2022-03-03T14:16:15.885453Z",
     "shell.execute_reply.started": "2022-03-03T13:52:19.808852Z"
    },
    "papermill": {
     "duration": 0.067032,
     "end_time": "2022-03-03T14:16:15.885616",
     "exception": false,
     "start_time": "2022-03-03T14:16:15.818584",
     "status": "completed"
    },
    "tags": []
   },
   "outputs": [
    {
     "data": {
      "text/plain": [
       "18"
      ]
     },
     "execution_count": 8,
     "metadata": {},
     "output_type": "execute_result"
    }
   ],
   "source": [
    "#Children died but their relatives survived\n",
    "child=data[data['Age']<18]\n",
    "cond1=child[(child['SibSp']!=0) | (child['Parch']!=0)]['Survived'].value_counts()\n",
    "cond1[0]"
   ]
  },
  {
   "cell_type": "code",
   "execution_count": 9,
   "id": "488c4fdf",
   "metadata": {
    "execution": {
     "iopub.execute_input": "2022-03-03T14:16:16.003511Z",
     "iopub.status.busy": "2022-03-03T14:16:16.002947Z",
     "iopub.status.idle": "2022-03-03T14:16:16.199529Z",
     "shell.execute_reply": "2022-03-03T14:16:16.199993Z",
     "shell.execute_reply.started": "2022-03-03T13:52:19.826419Z"
    },
    "papermill": {
     "duration": 0.257757,
     "end_time": "2022-03-03T14:16:16.200166",
     "exception": false,
     "start_time": "2022-03-03T14:16:15.942409",
     "status": "completed"
    },
    "tags": []
   },
   "outputs": [
    {
     "data": {
      "text/plain": [
       "<AxesSubplot:xlabel='Pclass,Survived'>"
      ]
     },
     "execution_count": 9,
     "metadata": {},
     "output_type": "execute_result"
    },
    {
     "data": {
      "image/png": "[encoded data removed]",
      "text/plain": [
       "<Figure size 432x288 with 1 Axes>"
      ]
     },
     "metadata": {
      "needs_background": "light"
     },
     "output_type": "display_data"
    }
   ],
   "source": [
    "#no.of people above 50 travelling and have survived along with their class \n",
    "senior=data[data['Age']>=50]\n",
    "senior.groupby(['Pclass','Survived'])['Fare'].mean().plot(kind='bar',color='grey')"
   ]
  },
  {
   "cell_type": "code",
   "execution_count": 10,
   "id": "b21b976e",
   "metadata": {
    "execution": {
     "iopub.execute_input": "2022-03-03T14:16:16.316381Z",
     "iopub.status.busy": "2022-03-03T14:16:16.315777Z",
     "iopub.status.idle": "2022-03-03T14:16:16.481983Z",
     "shell.execute_reply": "2022-03-03T14:16:16.481423Z",
     "shell.execute_reply.started": "2022-03-03T13:52:20.020632Z"
    },
    "papermill": {
     "duration": 0.226487,
     "end_time": "2022-03-03T14:16:16.482121",
     "exception": false,
     "start_time": "2022-03-03T14:16:16.255634",
     "status": "completed"
    },
    "tags": []
   },
   "outputs": [
    {
     "data": {
      "text/plain": [
       "<AxesSubplot:xlabel='Sex', ylabel='count'>"
      ]
     },
     "execution_count": 10,
     "metadata": {},
     "output_type": "execute_result"
    },
    {
     "data": {
      "image/png": "[encoded data removed]",
      "text/plain": [
       "<Figure size 432x288 with 1 Axes>"
      ]
     },
     "metadata": {
      "needs_background": "light"
     },
     "output_type": "display_data"
    }
   ],
   "source": [
    "#Countplot\n",
    "sns.countplot(x='Sex',data=data)"
   ]
  },
  {
   "cell_type": "code",
   "execution_count": 11,
   "id": "1972f832",
   "metadata": {
    "execution": {
     "iopub.execute_input": "2022-03-03T14:16:16.603255Z",
     "iopub.status.busy": "2022-03-03T14:16:16.602672Z",
     "iopub.status.idle": "2022-03-03T14:16:16.790653Z",
     "shell.execute_reply": "2022-03-03T14:16:16.791169Z",
     "shell.execute_reply.started": "2022-03-03T13:52:20.187741Z"
    },
    "papermill": {
     "duration": 0.251581,
     "end_time": "2022-03-03T14:16:16.791355",
     "exception": false,
     "start_time": "2022-03-03T14:16:16.539774",
     "status": "completed"
    },
    "tags": []
   },
   "outputs": [
    {
     "data": {
      "text/plain": [
       "<AxesSubplot:xlabel='Sex', ylabel='count'>"
      ]
     },
     "execution_count": 11,
     "metadata": {},
     "output_type": "execute_result"
    },
    {
     "data": {
      "image/png": "[encoded data removed]",
      "text/plain": [
       "<Figure size 432x288 with 1 Axes>"
      ]
     },
     "metadata": {
      "needs_background": "light"
     },
     "output_type": "display_data"
    }
   ],
   "source": [
    "sns.countplot(x='Sex',hue='Survived',data=data)"
   ]
  },
  {
   "cell_type": "code",
   "execution_count": 12,
   "id": "9127ece4",
   "metadata": {
    "execution": {
     "iopub.execute_input": "2022-03-03T14:16:16.913864Z",
     "iopub.status.busy": "2022-03-03T14:16:16.912973Z",
     "iopub.status.idle": "2022-03-03T14:16:17.125420Z",
     "shell.execute_reply": "2022-03-03T14:16:17.125917Z",
     "shell.execute_reply.started": "2022-03-03T13:52:20.380929Z"
    },
    "papermill": {
     "duration": 0.274994,
     "end_time": "2022-03-03T14:16:17.126076",
     "exception": false,
     "start_time": "2022-03-03T14:16:16.851082",
     "status": "completed"
    },
    "tags": []
   },
   "outputs": [
    {
     "data": {
      "text/plain": [
       "<AxesSubplot:xlabel='Sex', ylabel='count'>"
      ]
     },
     "execution_count": 12,
     "metadata": {},
     "output_type": "execute_result"
    },
    {
     "data": {
      "image/png": "[encoded data removed]",
      "text/plain": [
       "<Figure size 432x288 with 1 Axes>"
      ]
     },
     "metadata": {
      "needs_background": "light"
     },
     "output_type": "display_data"
    }
   ],
   "source": [
    "sns.countplot(x='Sex',hue='Survived',data=senior)"
   ]
  },
  {
   "cell_type": "code",
   "execution_count": 13,
   "id": "71d460c4",
   "metadata": {
    "execution": {
     "iopub.execute_input": "2022-03-03T14:16:17.247488Z",
     "iopub.status.busy": "2022-03-03T14:16:17.246579Z",
     "iopub.status.idle": "2022-03-03T14:16:17.255535Z",
     "shell.execute_reply": "2022-03-03T14:16:17.255961Z",
     "shell.execute_reply.started": "2022-03-03T13:52:20.600724Z"
    },
    "papermill": {
     "duration": 0.07129,
     "end_time": "2022-03-03T14:16:17.256127",
     "exception": false,
     "start_time": "2022-03-03T14:16:17.184837",
     "status": "completed"
    },
    "tags": []
   },
   "outputs": [
    {
     "data": {
      "text/plain": [
       "Pclass  Sex   \n",
       "1       female    15\n",
       "        male      13\n",
       "2       male       5\n",
       "        female     1\n",
       "3       male       2\n",
       "Name: Sex, dtype: int64"
      ]
     },
     "execution_count": 13,
     "metadata": {},
     "output_type": "execute_result"
    }
   ],
   "source": [
    "senior.groupby('Pclass')['Sex'].value_counts()"
   ]
  },
  {
   "cell_type": "code",
   "execution_count": 14,
   "id": "f2882dd8",
   "metadata": {
    "execution": {
     "iopub.execute_input": "2022-03-03T14:16:17.379871Z",
     "iopub.status.busy": "2022-03-03T14:16:17.378986Z",
     "iopub.status.idle": "2022-03-03T14:16:17.386204Z",
     "shell.execute_reply": "2022-03-03T14:16:17.386696Z",
     "shell.execute_reply.started": "2022-03-03T13:52:20.614219Z"
    },
    "papermill": {
     "duration": 0.071666,
     "end_time": "2022-03-03T14:16:17.386874",
     "exception": false,
     "start_time": "2022-03-03T14:16:17.315208",
     "status": "completed"
    },
    "tags": []
   },
   "outputs": [
    {
     "data": {
      "text/plain": [
       "0.5714285714285714"
      ]
     },
     "execution_count": 14,
     "metadata": {},
     "output_type": "execute_result"
    }
   ],
   "source": [
    "#Sex ratio initially\n",
    "total=data['Sex'].value_counts()\n",
    "total['female']/total['male']"
   ]
  },
  {
   "cell_type": "code",
   "execution_count": 15,
   "id": "631b0959",
   "metadata": {
    "execution": {
     "iopub.execute_input": "2022-03-03T14:16:17.515198Z",
     "iopub.status.busy": "2022-03-03T14:16:17.514267Z",
     "iopub.status.idle": "2022-03-03T14:16:17.518156Z",
     "shell.execute_reply": "2022-03-03T14:16:17.517669Z",
     "shell.execute_reply.started": "2022-03-03T13:52:50.870841Z"
    },
    "papermill": {
     "duration": 0.072177,
     "end_time": "2022-03-03T14:16:17.518291",
     "exception": false,
     "start_time": "2022-03-03T14:16:17.446114",
     "status": "completed"
    },
    "tags": []
   },
   "outputs": [
    {
     "data": {
      "text/plain": [
       "0    185\n",
       "1     68\n",
       "Name: Survived, dtype: int64"
      ]
     },
     "execution_count": 15,
     "metadata": {},
     "output_type": "execute_result"
    }
   ],
   "source": [
    "data[(data['SibSp']==0) & (data['Parch']==0)]['Survived'].value_counts()"
   ]
  },
  {
   "cell_type": "code",
   "execution_count": 16,
   "id": "579104d6",
   "metadata": {
    "execution": {
     "iopub.execute_input": "2022-03-03T14:16:17.639881Z",
     "iopub.status.busy": "2022-03-03T14:16:17.638958Z",
     "iopub.status.idle": "2022-03-03T14:16:17.646896Z",
     "shell.execute_reply": "2022-03-03T14:16:17.647446Z",
     "shell.execute_reply.started": "2022-03-03T13:52:53.842298Z"
    },
    "papermill": {
     "duration": 0.069938,
     "end_time": "2022-03-03T14:16:17.647615",
     "exception": false,
     "start_time": "2022-03-03T14:16:17.577677",
     "status": "completed"
    },
    "tags": []
   },
   "outputs": [
    {
     "data": {
      "text/plain": [
       "1    68\n",
       "Name: Survived, dtype: int64"
      ]
     },
     "execution_count": 16,
     "metadata": {},
     "output_type": "execute_result"
    }
   ],
   "source": [
    "data[(data['SibSp']==0) & (data['Parch']==0) & (data['Survived']==1)]['Survived'].value_counts()"
   ]
  },
  {
   "cell_type": "code",
   "execution_count": 17,
   "id": "be8d2872",
   "metadata": {
    "execution": {
     "iopub.execute_input": "2022-03-03T14:16:17.774627Z",
     "iopub.status.busy": "2022-03-03T14:16:17.773980Z",
     "iopub.status.idle": "2022-03-03T14:16:17.779895Z",
     "shell.execute_reply": "2022-03-03T14:16:17.780363Z",
     "shell.execute_reply.started": "2022-03-03T13:52:59.676235Z"
    },
    "papermill": {
     "duration": 0.072154,
     "end_time": "2022-03-03T14:16:17.780528",
     "exception": false,
     "start_time": "2022-03-03T14:16:17.708374",
     "status": "completed"
    },
    "tags": []
   },
   "outputs": [
    {
     "data": {
      "text/plain": [
       "1    24\n",
       "0    22\n",
       "Name: Survived, dtype: int64"
      ]
     },
     "execution_count": 17,
     "metadata": {},
     "output_type": "execute_result"
    }
   ],
   "source": [
    "data[data['Embarked']=='Q']['Survived'].value_counts()"
   ]
  },
  {
   "cell_type": "code",
   "execution_count": 18,
   "id": "99049dd6",
   "metadata": {
    "execution": {
     "iopub.execute_input": "2022-03-03T14:16:17.910650Z",
     "iopub.status.busy": "2022-03-03T14:16:17.905535Z",
     "iopub.status.idle": "2022-03-03T14:16:17.913334Z",
     "shell.execute_reply": "2022-03-03T14:16:17.913780Z",
     "shell.execute_reply.started": "2022-03-03T13:53:01.742073Z"
    },
    "papermill": {
     "duration": 0.073486,
     "end_time": "2022-03-03T14:16:17.913938",
     "exception": false,
     "start_time": "2022-03-03T14:16:17.840452",
     "status": "completed"
    },
    "tags": []
   },
   "outputs": [
    {
     "data": {
      "text/plain": [
       "100.0"
      ]
     },
     "execution_count": 18,
     "metadata": {},
     "output_type": "execute_result"
    }
   ],
   "source": [
    "#Survival rate of people belonging to Pclass=1 and embarked='Q'\n",
    "we=data[(data['Pclass']==1) & (data['Embarked']=='Q')]['Survived'].value_counts()\n",
    "(we[1]/we.sum())*100"
   ]
  },
  {
   "cell_type": "code",
   "execution_count": 19,
   "id": "bfa08a3c",
   "metadata": {
    "execution": {
     "iopub.execute_input": "2022-03-03T14:16:18.039064Z",
     "iopub.status.busy": "2022-03-03T14:16:18.038426Z",
     "iopub.status.idle": "2022-03-03T14:16:18.241790Z",
     "shell.execute_reply": "2022-03-03T14:16:18.242236Z",
     "shell.execute_reply.started": "2022-03-03T13:53:05.813142Z"
    },
    "papermill": {
     "duration": 0.266945,
     "end_time": "2022-03-03T14:16:18.242450",
     "exception": false,
     "start_time": "2022-03-03T14:16:17.975505",
     "status": "completed"
    },
    "tags": []
   },
   "outputs": [
    {
     "data": {
      "text/plain": [
       "<AxesSubplot:xlabel='Pclass,Sex'>"
      ]
     },
     "execution_count": 19,
     "metadata": {},
     "output_type": "execute_result"
    },
    {
     "data": {
      "image/png": "[encoded data removed]",
      "text/plain": [
       "<Figure size 432x288 with 1 Axes>"
      ]
     },
     "metadata": {
      "needs_background": "light"
     },
     "output_type": "display_data"
    }
   ],
   "source": [
    "#Fare based on Pclass with hue on gender\n",
    "data.groupby(['Pclass','Sex'])['Fare'].mean().plot(kind='bar')"
   ]
  },
  {
   "cell_type": "code",
   "execution_count": 20,
   "id": "feaaa0f3",
   "metadata": {
    "execution": {
     "iopub.execute_input": "2022-03-03T14:16:18.370363Z",
     "iopub.status.busy": "2022-03-03T14:16:18.369731Z",
     "iopub.status.idle": "2022-03-03T14:16:18.701583Z",
     "shell.execute_reply": "2022-03-03T14:16:18.701035Z",
     "shell.execute_reply.started": "2022-03-03T13:53:08.409677Z"
    },
    "papermill": {
     "duration": 0.397757,
     "end_time": "2022-03-03T14:16:18.701722",
     "exception": false,
     "start_time": "2022-03-03T14:16:18.303965",
     "status": "completed"
    },
    "tags": []
   },
   "outputs": [
    {
     "data": {
      "text/plain": [
       "<AxesSubplot:xlabel='Pclass', ylabel='Fare'>"
      ]
     },
     "execution_count": 20,
     "metadata": {},
     "output_type": "execute_result"
    },
    {
     "data": {
      "image/png": "[encoded data removed]",
      "text/plain": [
       "<Figure size 1080x360 with 1 Axes>"
      ]
     },
     "metadata": {
      "needs_background": "light"
     },
     "output_type": "display_data"
    }
   ],
   "source": [
    "#Fare of gender in different Pclass for seniors i.e. Age>50\n",
    "plt.figure(figsize=(15,5))\n",
    "sns.barplot(x='Pclass',y='Fare',hue='Sex',data=senior)"
   ]
  },
  {
   "cell_type": "code",
   "execution_count": 21,
   "id": "f27d10df",
   "metadata": {
    "execution": {
     "iopub.execute_input": "2022-03-03T14:16:18.835286Z",
     "iopub.status.busy": "2022-03-03T14:16:18.834679Z",
     "iopub.status.idle": "2022-03-03T14:16:19.060993Z",
     "shell.execute_reply": "2022-03-03T14:16:19.061520Z",
     "shell.execute_reply.started": "2022-03-03T13:53:10.778500Z"
    },
    "papermill": {
     "duration": 0.29504,
     "end_time": "2022-03-03T14:16:19.061689",
     "exception": false,
     "start_time": "2022-03-03T14:16:18.766649",
     "status": "completed"
    },
    "tags": []
   },
   "outputs": [
    {
     "data": {
      "text/plain": [
       "<AxesSubplot:xlabel='Sex'>"
      ]
     },
     "execution_count": 21,
     "metadata": {},
     "output_type": "execute_result"
    },
    {
     "data": {
      "image/png": "[encoded data removed]",
      "text/plain": [
       "<Figure size 432x288 with 1 Axes>"
      ]
     },
     "metadata": {
      "needs_background": "light"
     },
     "output_type": "display_data"
    }
   ],
   "source": [
    "pd.crosstab(data.Sex,data.Pclass).plot(kind='bar')"
   ]
  },
  {
   "cell_type": "code",
   "execution_count": 22,
   "id": "0db576f4",
   "metadata": {
    "execution": {
     "iopub.execute_input": "2022-03-03T14:16:19.191418Z",
     "iopub.status.busy": "2022-03-03T14:16:19.190793Z",
     "iopub.status.idle": "2022-03-03T14:16:19.411180Z",
     "shell.execute_reply": "2022-03-03T14:16:19.410644Z",
     "shell.execute_reply.started": "2022-03-03T13:53:12.666821Z"
    },
    "papermill": {
     "duration": 0.285474,
     "end_time": "2022-03-03T14:16:19.411328",
     "exception": false,
     "start_time": "2022-03-03T14:16:19.125854",
     "status": "completed"
    },
    "tags": []
   },
   "outputs": [
    {
     "data": {
      "text/plain": [
       "<AxesSubplot:xlabel='Survived'>"
      ]
     },
     "execution_count": 22,
     "metadata": {},
     "output_type": "execute_result"
    },
    {
     "data": {
      "image/png": "[encoded data removed]",
      "text/plain": [
       "<Figure size 432x288 with 1 Axes>"
      ]
     },
     "metadata": {
      "needs_background": "light"
     },
     "output_type": "display_data"
    }
   ],
   "source": [
    "pd.crosstab(data.Survived,data.Pclass).plot(kind='bar')"
   ]
  },
  {
   "cell_type": "code",
   "execution_count": 23,
   "id": "eb46eb14",
   "metadata": {
    "execution": {
     "iopub.execute_input": "2022-03-03T14:16:19.546479Z",
     "iopub.status.busy": "2022-03-03T14:16:19.545771Z",
     "iopub.status.idle": "2022-03-03T14:16:19.780937Z",
     "shell.execute_reply": "2022-03-03T14:16:19.780210Z",
     "shell.execute_reply.started": "2022-03-03T13:53:16.583960Z"
    },
    "papermill": {
     "duration": 0.304995,
     "end_time": "2022-03-03T14:16:19.781081",
     "exception": false,
     "start_time": "2022-03-03T14:16:19.476086",
     "status": "completed"
    },
    "tags": []
   },
   "outputs": [
    {
     "data": {
      "text/plain": [
       "<AxesSubplot:xlabel='Embarked'>"
      ]
     },
     "execution_count": 23,
     "metadata": {},
     "output_type": "execute_result"
    },
    {
     "data": {
      "image/png": "[encoded data removed]",
      "text/plain": [
       "<Figure size 432x288 with 1 Axes>"
      ]
     },
     "metadata": {
      "needs_background": "light"
     },
     "output_type": "display_data"
    }
   ],
   "source": [
    "pd.crosstab(data.Embarked,data.Pclass).plot(kind='bar')"
   ]
  },
  {
   "cell_type": "code",
   "execution_count": 24,
   "id": "ad32799a",
   "metadata": {
    "execution": {
     "iopub.execute_input": "2022-03-03T14:16:20.068387Z",
     "iopub.status.busy": "2022-03-03T14:16:20.063983Z",
     "iopub.status.idle": "2022-03-03T14:16:20.192877Z",
     "shell.execute_reply": "2022-03-03T14:16:20.193880Z",
     "shell.execute_reply.started": "2022-03-03T13:53:20.147402Z"
    },
    "papermill": {
     "duration": 0.345776,
     "end_time": "2022-03-03T14:16:20.194155",
     "exception": false,
     "start_time": "2022-03-03T14:16:19.848379",
     "status": "completed"
    },
    "tags": []
   },
   "outputs": [
    {
     "data": {
      "text/plain": [
       "<AxesSubplot:ylabel='Pclass'>"
      ]
     },
     "execution_count": 24,
     "metadata": {},
     "output_type": "execute_result"
    },
    {
     "data": {
      "image/png": "[encoded data removed]",
      "text/plain": [
       "<Figure size 1080x720 with 1 Axes>"
      ]
     },
     "metadata": {},
     "output_type": "display_data"
    }
   ],
   "source": [
    "#In which class max single individuals are travelling\n",
    "plt.figure(figsize=(15,10))\n",
    "data[(data['SibSp']==0) & (data['Parch']==0)]['Pclass'].value_counts().plot(kind='pie')"
   ]
  },
  {
   "cell_type": "code",
   "execution_count": 25,
   "id": "9279696f",
   "metadata": {
    "execution": {
     "iopub.execute_input": "2022-03-03T14:16:20.351907Z",
     "iopub.status.busy": "2022-03-03T14:16:20.351299Z",
     "iopub.status.idle": "2022-03-03T14:16:20.486625Z",
     "shell.execute_reply": "2022-03-03T14:16:20.485668Z",
     "shell.execute_reply.started": "2022-03-03T13:53:22.324611Z"
    },
    "papermill": {
     "duration": 0.204014,
     "end_time": "2022-03-03T14:16:20.486895",
     "exception": false,
     "start_time": "2022-03-03T14:16:20.282881",
     "status": "completed"
    },
    "tags": []
   },
   "outputs": [
    {
     "data": {
      "text/plain": [
       "<AxesSubplot:ylabel='Sex'>"
      ]
     },
     "execution_count": 25,
     "metadata": {},
     "output_type": "execute_result"
    },
    {
     "data": {
      "image/png": "[encoded data removed]",
      "text/plain": [
       "<Figure size 1080x720 with 1 Axes>"
      ]
     },
     "metadata": {},
     "output_type": "display_data"
    }
   ],
   "source": [
    "#Maximum individuals gender \n",
    "plt.figure(figsize=(15,10))\n",
    "data[(data['SibSp']==0) & (data['Parch']==0)]['Sex'].value_counts().plot(kind='pie')"
   ]
  },
  {
   "cell_type": "code",
   "execution_count": 26,
   "id": "43ed0f8f",
   "metadata": {
    "execution": {
     "iopub.execute_input": "2022-03-03T14:16:20.649245Z",
     "iopub.status.busy": "2022-03-03T14:16:20.647129Z",
     "iopub.status.idle": "2022-03-03T14:16:20.653007Z",
     "shell.execute_reply": "2022-03-03T14:16:20.652569Z",
     "shell.execute_reply.started": "2022-03-03T13:53:25.467738Z"
    },
    "papermill": {
     "duration": 0.076049,
     "end_time": "2022-03-03T14:16:20.653153",
     "exception": false,
     "start_time": "2022-03-03T14:16:20.577104",
     "status": "completed"
    },
    "tags": []
   },
   "outputs": [
    {
     "data": {
      "text/plain": [
       "(418, 12)"
      ]
     },
     "execution_count": 26,
     "metadata": {},
     "output_type": "execute_result"
    }
   ],
   "source": [
    "data.shape"
   ]
  },
  {
   "cell_type": "code",
   "execution_count": 27,
   "id": "e504dec4",
   "metadata": {
    "execution": {
     "iopub.execute_input": "2022-03-03T14:16:20.792241Z",
     "iopub.status.busy": "2022-03-03T14:16:20.791669Z",
     "iopub.status.idle": "2022-03-03T14:16:20.796356Z",
     "shell.execute_reply": "2022-03-03T14:16:20.796856Z",
     "shell.execute_reply.started": "2022-03-03T13:53:28.314438Z"
    },
    "papermill": {
     "duration": 0.075995,
     "end_time": "2022-03-03T14:16:20.797019",
     "exception": false,
     "start_time": "2022-03-03T14:16:20.721024",
     "status": "completed"
    },
    "tags": []
   },
   "outputs": [],
   "source": [
    "#To drop Cabin column\n",
    "data.drop(['Cabin'],axis=1,inplace=True)"
   ]
  },
  {
   "cell_type": "code",
   "execution_count": 28,
   "id": "67c9bab2",
   "metadata": {
    "execution": {
     "iopub.execute_input": "2022-03-03T14:16:20.938050Z",
     "iopub.status.busy": "2022-03-03T14:16:20.937358Z",
     "iopub.status.idle": "2022-03-03T14:16:20.951485Z",
     "shell.execute_reply": "2022-03-03T14:16:20.950947Z",
     "shell.execute_reply.started": "2022-03-03T13:53:30.912230Z"
    },
    "papermill": {
     "duration": 0.085484,
     "end_time": "2022-03-03T14:16:20.951631",
     "exception": false,
     "start_time": "2022-03-03T14:16:20.866147",
     "status": "completed"
    },
    "tags": []
   },
   "outputs": [
    {
     "data": {
      "text/html": [
       "<div>\n",
       "<style scoped>\n",
       "    .dataframe tbody tr th:only-of-type {\n",
       "        vertical-align: middle;\n",
       "    }\n",
       "\n",
       "    .dataframe tbody tr th {\n",
       "        vertical-align: top;\n",
       "    }\n",
       "\n",
       "    .dataframe thead th {\n",
       "        text-align: right;\n",
       "    }\n",
       "</style>\n",
       "<table border=\"1\" class=\"dataframe\">\n",
       "  <thead>\n",
       "    <tr style=\"text-align: right;\">\n",
       "      <th></th>\n",
       "      <th>PassengerId</th>\n",
       "      <th>Survived</th>\n",
       "      <th>Pclass</th>\n",
       "      <th>Name</th>\n",
       "      <th>Sex</th>\n",
       "      <th>Age</th>\n",
       "      <th>SibSp</th>\n",
       "      <th>Parch</th>\n",
       "      <th>Ticket</th>\n",
       "      <th>Fare</th>\n",
       "      <th>Embarked</th>\n",
       "    </tr>\n",
       "  </thead>\n",
       "  <tbody>\n",
       "    <tr>\n",
       "      <th>0</th>\n",
       "      <td>892</td>\n",
       "      <td>0</td>\n",
       "      <td>3</td>\n",
       "      <td>Kelly, Mr. James</td>\n",
       "      <td>male</td>\n",
       "      <td>34.5</td>\n",
       "      <td>0</td>\n",
       "      <td>0</td>\n",
       "      <td>330911</td>\n",
       "      <td>7.8292</td>\n",
       "      <td>Q</td>\n",
       "    </tr>\n",
       "    <tr>\n",
       "      <th>1</th>\n",
       "      <td>893</td>\n",
       "      <td>1</td>\n",
       "      <td>3</td>\n",
       "      <td>Wilkes, Mrs. James (Ellen Needs)</td>\n",
       "      <td>female</td>\n",
       "      <td>47.0</td>\n",
       "      <td>1</td>\n",
       "      <td>0</td>\n",
       "      <td>363272</td>\n",
       "      <td>7.0000</td>\n",
       "      <td>S</td>\n",
       "    </tr>\n",
       "    <tr>\n",
       "      <th>2</th>\n",
       "      <td>894</td>\n",
       "      <td>0</td>\n",
       "      <td>2</td>\n",
       "      <td>Myles, Mr. Thomas Francis</td>\n",
       "      <td>male</td>\n",
       "      <td>62.0</td>\n",
       "      <td>0</td>\n",
       "      <td>0</td>\n",
       "      <td>240276</td>\n",
       "      <td>9.6875</td>\n",
       "      <td>Q</td>\n",
       "    </tr>\n",
       "    <tr>\n",
       "      <th>3</th>\n",
       "      <td>895</td>\n",
       "      <td>0</td>\n",
       "      <td>3</td>\n",
       "      <td>Wirz, Mr. Albert</td>\n",
       "      <td>male</td>\n",
       "      <td>27.0</td>\n",
       "      <td>0</td>\n",
       "      <td>0</td>\n",
       "      <td>315154</td>\n",
       "      <td>8.6625</td>\n",
       "      <td>S</td>\n",
       "    </tr>\n",
       "    <tr>\n",
       "      <th>4</th>\n",
       "      <td>896</td>\n",
       "      <td>1</td>\n",
       "      <td>3</td>\n",
       "      <td>Hirvonen, Mrs. Alexander (Helga E Lindqvist)</td>\n",
       "      <td>female</td>\n",
       "      <td>22.0</td>\n",
       "      <td>1</td>\n",
       "      <td>1</td>\n",
       "      <td>3101298</td>\n",
       "      <td>12.2875</td>\n",
       "      <td>S</td>\n",
       "    </tr>\n",
       "  </tbody>\n",
       "</table>\n",
       "</div>"
      ],
      "text/plain": [
       "   PassengerId  Survived  Pclass  \\\n",
       "0          892         0       3   \n",
       "1          893         1       3   \n",
       "2          894         0       2   \n",
       "3          895         0       3   \n",
       "4          896         1       3   \n",
       "\n",
       "                                           Name     Sex   Age  SibSp  Parch  \\\n",
       "0                              Kelly, Mr. James    male  34.5      0      0   \n",
       "1              Wilkes, Mrs. James (Ellen Needs)  female  47.0      1      0   \n",
       "2                     Myles, Mr. Thomas Francis    male  62.0      0      0   \n",
       "3                              Wirz, Mr. Albert    male  27.0      0      0   \n",
       "4  Hirvonen, Mrs. Alexander (Helga E Lindqvist)  female  22.0      1      1   \n",
       "\n",
       "    Ticket     Fare Embarked  \n",
       "0   330911   7.8292        Q  \n",
       "1   363272   7.0000        S  \n",
       "2   240276   9.6875        Q  \n",
       "3   315154   8.6625        S  \n",
       "4  3101298  12.2875        S  "
      ]
     },
     "execution_count": 28,
     "metadata": {},
     "output_type": "execute_result"
    }
   ],
   "source": [
    "data.head()"
   ]
  },
  {
   "cell_type": "code",
   "execution_count": 29,
   "id": "e70c6261",
   "metadata": {
    "execution": {
     "iopub.execute_input": "2022-03-03T14:16:21.093002Z",
     "iopub.status.busy": "2022-03-03T14:16:21.092430Z",
     "iopub.status.idle": "2022-03-03T14:16:21.100097Z",
     "shell.execute_reply": "2022-03-03T14:16:21.099575Z",
     "shell.execute_reply.started": "2022-03-03T13:53:33.063989Z"
    },
    "papermill": {
     "duration": 0.078799,
     "end_time": "2022-03-03T14:16:21.100252",
     "exception": false,
     "start_time": "2022-03-03T14:16:21.021453",
     "status": "completed"
    },
    "tags": []
   },
   "outputs": [
    {
     "data": {
      "text/plain": [
       "PassengerId     0\n",
       "Survived        0\n",
       "Pclass          0\n",
       "Name            0\n",
       "Sex             0\n",
       "Age            86\n",
       "SibSp           0\n",
       "Parch           0\n",
       "Ticket          0\n",
       "Fare            1\n",
       "Embarked        0\n",
       "dtype: int64"
      ]
     },
     "execution_count": 29,
     "metadata": {},
     "output_type": "execute_result"
    }
   ],
   "source": [
    "data.isnull().sum()"
   ]
  },
  {
   "cell_type": "code",
   "execution_count": 30,
   "id": "661b78cd",
   "metadata": {
    "execution": {
     "iopub.execute_input": "2022-03-03T14:16:21.247194Z",
     "iopub.status.busy": "2022-03-03T14:16:21.246614Z",
     "iopub.status.idle": "2022-03-03T14:16:21.411485Z",
     "shell.execute_reply": "2022-03-03T14:16:21.411944Z",
     "shell.execute_reply.started": "2022-03-03T13:53:38.011072Z"
    },
    "papermill": {
     "duration": 0.237965,
     "end_time": "2022-03-03T14:16:21.412125",
     "exception": false,
     "start_time": "2022-03-03T14:16:21.174160",
     "status": "completed"
    },
    "tags": []
   },
   "outputs": [
    {
     "data": {
      "text/plain": [
       "<AxesSubplot:>"
      ]
     },
     "execution_count": 30,
     "metadata": {},
     "output_type": "execute_result"
    },
    {
     "data": {
      "image/png": "[encoded data removed]",
      "text/plain": [
       "<Figure size 432x288 with 1 Axes>"
      ]
     },
     "metadata": {
      "needs_background": "light"
     },
     "output_type": "display_data"
    }
   ],
   "source": [
    "#To fill the Embarked column best way is to fill it by mode \n",
    "data['Embarked'].value_counts().plot(kind='bar',color='red')"
   ]
  },
  {
   "cell_type": "code",
   "execution_count": 31,
   "id": "0866d29a",
   "metadata": {
    "execution": {
     "iopub.execute_input": "2022-03-03T14:16:21.555608Z",
     "iopub.status.busy": "2022-03-03T14:16:21.554992Z",
     "iopub.status.idle": "2022-03-03T14:16:21.558825Z",
     "shell.execute_reply": "2022-03-03T14:16:21.559328Z",
     "shell.execute_reply.started": "2022-03-03T13:53:45.895131Z"
    },
    "papermill": {
     "duration": 0.076641,
     "end_time": "2022-03-03T14:16:21.559493",
     "exception": false,
     "start_time": "2022-03-03T14:16:21.482852",
     "status": "completed"
    },
    "tags": []
   },
   "outputs": [],
   "source": [
    "data['Embarked'].fillna('S',inplace=True)"
   ]
  },
  {
   "cell_type": "code",
   "execution_count": 32,
   "id": "925a3345",
   "metadata": {
    "execution": {
     "iopub.execute_input": "2022-03-03T14:16:21.703222Z",
     "iopub.status.busy": "2022-03-03T14:16:21.702600Z",
     "iopub.status.idle": "2022-03-03T14:16:21.920719Z",
     "shell.execute_reply": "2022-03-03T14:16:21.920110Z",
     "shell.execute_reply.started": "2022-03-03T13:53:48.578862Z"
    },
    "papermill": {
     "duration": 0.290579,
     "end_time": "2022-03-03T14:16:21.920856",
     "exception": false,
     "start_time": "2022-03-03T14:16:21.630277",
     "status": "completed"
    },
    "tags": []
   },
   "outputs": [
    {
     "data": {
      "text/plain": [
       "<AxesSubplot:>"
      ]
     },
     "execution_count": 32,
     "metadata": {},
     "output_type": "execute_result"
    },
    {
     "data": {
      "image/png": "[encoded data removed]",
      "text/plain": [
       "<Figure size 432x288 with 1 Axes>"
      ]
     },
     "metadata": {
      "needs_background": "light"
     },
     "output_type": "display_data"
    }
   ],
   "source": [
    "data.isnull().sum().plot(kind='bar',color='magenta')"
   ]
  },
  {
   "cell_type": "code",
   "execution_count": 33,
   "id": "51bba746",
   "metadata": {
    "execution": {
     "iopub.execute_input": "2022-03-03T14:16:22.066737Z",
     "iopub.status.busy": "2022-03-03T14:16:22.066148Z",
     "iopub.status.idle": "2022-03-03T14:16:22.073185Z",
     "shell.execute_reply": "2022-03-03T14:16:22.073669Z",
     "shell.execute_reply.started": "2022-03-03T13:53:56.031183Z"
    },
    "papermill": {
     "duration": 0.08094,
     "end_time": "2022-03-03T14:16:22.073832",
     "exception": false,
     "start_time": "2022-03-03T14:16:21.992892",
     "status": "completed"
    },
    "tags": []
   },
   "outputs": [
    {
     "data": {
      "text/plain": [
       "Pclass\n",
       "1    40.918367\n",
       "2    28.777500\n",
       "3    24.027945\n",
       "Name: Age, dtype: float64"
      ]
     },
     "execution_count": 33,
     "metadata": {},
     "output_type": "execute_result"
    }
   ],
   "source": [
    "#Class wise mean of age \n",
    "data.groupby('Pclass')[\"Age\"].mean()"
   ]
  },
  {
   "cell_type": "code",
   "execution_count": 34,
   "id": "5866bd0e",
   "metadata": {
    "execution": {
     "iopub.execute_input": "2022-03-03T14:16:22.221140Z",
     "iopub.status.busy": "2022-03-03T14:16:22.220584Z",
     "iopub.status.idle": "2022-03-03T14:16:22.224624Z",
     "shell.execute_reply": "2022-03-03T14:16:22.225062Z",
     "shell.execute_reply.started": "2022-03-03T13:54:42.693000Z"
    },
    "papermill": {
     "duration": 0.079397,
     "end_time": "2022-03-03T14:16:22.225231",
     "exception": false,
     "start_time": "2022-03-03T14:16:22.145834",
     "status": "completed"
    },
    "tags": []
   },
   "outputs": [],
   "source": [
    "def input_age(cols):\n",
    "    Age=cols[0]\n",
    "    Pclass=cols[1]\n",
    "    if pd.isnull(Age):\n",
    "        if Pclass==1:\n",
    "            return 40.918367\n",
    "        if Pclass==2:\n",
    "            return 28.777500\n",
    "        if Pclass==3:\n",
    "            return 24.027945\n",
    "    else:\n",
    "        return Age"
   ]
  },
  {
   "cell_type": "code",
   "execution_count": 35,
   "id": "3737bb9c",
   "metadata": {
    "execution": {
     "iopub.execute_input": "2022-03-03T14:16:22.369416Z",
     "iopub.status.busy": "2022-03-03T14:16:22.368841Z",
     "iopub.status.idle": "2022-03-03T14:16:22.378384Z",
     "shell.execute_reply": "2022-03-03T14:16:22.378821Z",
     "shell.execute_reply.started": "2022-03-03T13:55:00.399957Z"
    },
    "papermill": {
     "duration": 0.08334,
     "end_time": "2022-03-03T14:16:22.378975",
     "exception": false,
     "start_time": "2022-03-03T14:16:22.295635",
     "status": "completed"
    },
    "tags": []
   },
   "outputs": [],
   "source": [
    "data[\"Age\"]=data[[\"Age\",\"Pclass\"]].apply(input_age,axis=1)"
   ]
  },
  {
   "cell_type": "code",
   "execution_count": 36,
   "id": "22e9a89b",
   "metadata": {
    "execution": {
     "iopub.execute_input": "2022-03-03T14:16:22.538786Z",
     "iopub.status.busy": "2022-03-03T14:16:22.538073Z",
     "iopub.status.idle": "2022-03-03T14:16:22.712956Z",
     "shell.execute_reply": "2022-03-03T14:16:22.712444Z",
     "shell.execute_reply.started": "2022-03-03T13:55:03.629008Z"
    },
    "papermill": {
     "duration": 0.263617,
     "end_time": "2022-03-03T14:16:22.713116",
     "exception": false,
     "start_time": "2022-03-03T14:16:22.449499",
     "status": "completed"
    },
    "tags": []
   },
   "outputs": [
    {
     "data": {
      "text/plain": [
       "<AxesSubplot:>"
      ]
     },
     "execution_count": 36,
     "metadata": {},
     "output_type": "execute_result"
    },
    {
     "data": {
      "image/png": "[encoded data removed]",
      "text/plain": [
       "<Figure size 432x288 with 1 Axes>"
      ]
     },
     "metadata": {
      "needs_background": "light"
     },
     "output_type": "display_data"
    }
   ],
   "source": [
    "data.isnull().sum().plot()"
   ]
  },
  {
   "cell_type": "code",
   "execution_count": 37,
   "id": "cbf9f290",
   "metadata": {
    "execution": {
     "iopub.execute_input": "2022-03-03T14:16:22.869404Z",
     "iopub.status.busy": "2022-03-03T14:16:22.868748Z",
     "iopub.status.idle": "2022-03-03T14:16:22.872540Z",
     "shell.execute_reply": "2022-03-03T14:16:22.872939Z",
     "shell.execute_reply.started": "2022-03-03T13:57:09.651399Z"
    },
    "papermill": {
     "duration": 0.08688,
     "end_time": "2022-03-03T14:16:22.873106",
     "exception": false,
     "start_time": "2022-03-03T14:16:22.786226",
     "status": "completed"
    },
    "tags": []
   },
   "outputs": [
    {
     "data": {
      "text/plain": [
       "Pclass\n",
       "1    94.280297\n",
       "2    22.202104\n",
       "3    12.459678\n",
       "Name: Fare, dtype: float64"
      ]
     },
     "execution_count": 37,
     "metadata": {},
     "output_type": "execute_result"
    }
   ],
   "source": [
    "#Class wise mean of fare \n",
    "data.groupby('Pclass')[\"Fare\"].mean()"
   ]
  },
  {
   "cell_type": "code",
   "execution_count": 38,
   "id": "84bf0141",
   "metadata": {
    "execution": {
     "iopub.execute_input": "2022-03-03T14:16:23.022840Z",
     "iopub.status.busy": "2022-03-03T14:16:23.022164Z",
     "iopub.status.idle": "2022-03-03T14:16:23.027012Z",
     "shell.execute_reply": "2022-03-03T14:16:23.026544Z",
     "shell.execute_reply.started": "2022-03-03T13:58:23.618142Z"
    },
    "papermill": {
     "duration": 0.081399,
     "end_time": "2022-03-03T14:16:23.027151",
     "exception": false,
     "start_time": "2022-03-03T14:16:22.945752",
     "status": "completed"
    },
    "tags": []
   },
   "outputs": [],
   "source": [
    "def input_fare(cols):\n",
    "    Fare=cols[0]\n",
    "    Pclass=cols[1]\n",
    "    if pd.isnull(Fare):\n",
    "        if Pclass==1:\n",
    "            return 94.280297\n",
    "        if Pclass==2:\n",
    "            return 22.202104\n",
    "        if Pclass==3:\n",
    "            return 12.459678\n",
    "    else:\n",
    "        return Fare"
   ]
  },
  {
   "cell_type": "code",
   "execution_count": 39,
   "id": "c4f13e85",
   "metadata": {
    "execution": {
     "iopub.execute_input": "2022-03-03T14:16:23.176774Z",
     "iopub.status.busy": "2022-03-03T14:16:23.176184Z",
     "iopub.status.idle": "2022-03-03T14:16:23.187479Z",
     "shell.execute_reply": "2022-03-03T14:16:23.186972Z",
     "shell.execute_reply.started": "2022-03-03T13:58:54.860159Z"
    },
    "papermill": {
     "duration": 0.087352,
     "end_time": "2022-03-03T14:16:23.187629",
     "exception": false,
     "start_time": "2022-03-03T14:16:23.100277",
     "status": "completed"
    },
    "tags": []
   },
   "outputs": [],
   "source": [
    "data[\"Fare\"]=data[[\"Fare\",\"Pclass\"]].apply(input_fare,axis=1)"
   ]
  },
  {
   "cell_type": "code",
   "execution_count": 40,
   "id": "5d422c46",
   "metadata": {
    "execution": {
     "iopub.execute_input": "2022-03-03T14:16:23.338181Z",
     "iopub.status.busy": "2022-03-03T14:16:23.337556Z",
     "iopub.status.idle": "2022-03-03T14:16:23.510830Z",
     "shell.execute_reply": "2022-03-03T14:16:23.511263Z",
     "shell.execute_reply.started": "2022-03-03T13:59:06.593195Z"
    },
    "papermill": {
     "duration": 0.25146,
     "end_time": "2022-03-03T14:16:23.511436",
     "exception": false,
     "start_time": "2022-03-03T14:16:23.259976",
     "status": "completed"
    },
    "tags": []
   },
   "outputs": [
    {
     "data": {
      "text/plain": [
       "<AxesSubplot:>"
      ]
     },
     "execution_count": 40,
     "metadata": {},
     "output_type": "execute_result"
    },
    {
     "data": {
      "image/png": "[encoded data removed]",
      "text/plain": [
       "<Figure size 432x288 with 1 Axes>"
      ]
     },
     "metadata": {
      "needs_background": "light"
     },
     "output_type": "display_data"
    }
   ],
   "source": [
    "data.isnull().sum().plot()"
   ]
  },
  {
   "cell_type": "code",
   "execution_count": 41,
   "id": "120bff89",
   "metadata": {
    "execution": {
     "iopub.execute_input": "2022-03-03T14:16:23.664124Z",
     "iopub.status.busy": "2022-03-03T14:16:23.663326Z",
     "iopub.status.idle": "2022-03-03T14:16:23.805954Z",
     "shell.execute_reply": "2022-03-03T14:16:23.805397Z",
     "shell.execute_reply.started": "2022-03-03T13:59:58.148820Z"
    },
    "papermill": {
     "duration": 0.221678,
     "end_time": "2022-03-03T14:16:23.806093",
     "exception": false,
     "start_time": "2022-03-03T14:16:23.584415",
     "status": "completed"
    },
    "tags": []
   },
   "outputs": [],
   "source": [
    "#Converting Categorical values into Numerical Ones\n",
    "from sklearn.preprocessing import LabelEncoder\n",
    "lb=LabelEncoder()\n",
    "data['Sex']=lb.fit_transform(data[\"Sex\"])\n",
    "data['Embarked']=lb.fit_transform(data[\"Embarked\"])"
   ]
  },
  {
   "cell_type": "code",
   "execution_count": 42,
   "id": "b0fb7d50",
   "metadata": {
    "execution": {
     "iopub.execute_input": "2022-03-03T14:16:23.963741Z",
     "iopub.status.busy": "2022-03-03T14:16:23.963116Z",
     "iopub.status.idle": "2022-03-03T14:16:23.976406Z",
     "shell.execute_reply": "2022-03-03T14:16:23.976871Z",
     "shell.execute_reply.started": "2022-03-03T14:00:04.883630Z"
    },
    "papermill": {
     "duration": 0.096218,
     "end_time": "2022-03-03T14:16:23.977145",
     "exception": false,
     "start_time": "2022-03-03T14:16:23.880927",
     "status": "completed"
    },
    "tags": []
   },
   "outputs": [
    {
     "data": {
      "text/html": [
       "<div>\n",
       "<style scoped>\n",
       "    .dataframe tbody tr th:only-of-type {\n",
       "        vertical-align: middle;\n",
       "    }\n",
       "\n",
       "    .dataframe tbody tr th {\n",
       "        vertical-align: top;\n",
       "    }\n",
       "\n",
       "    .dataframe thead th {\n",
       "        text-align: right;\n",
       "    }\n",
       "</style>\n",
       "<table border=\"1\" class=\"dataframe\">\n",
       "  <thead>\n",
       "    <tr style=\"text-align: right;\">\n",
       "      <th></th>\n",
       "      <th>PassengerId</th>\n",
       "      <th>Survived</th>\n",
       "      <th>Pclass</th>\n",
       "      <th>Name</th>\n",
       "      <th>Sex</th>\n",
       "      <th>Age</th>\n",
       "      <th>SibSp</th>\n",
       "      <th>Parch</th>\n",
       "      <th>Ticket</th>\n",
       "      <th>Fare</th>\n",
       "      <th>Embarked</th>\n",
       "    </tr>\n",
       "  </thead>\n",
       "  <tbody>\n",
       "    <tr>\n",
       "      <th>0</th>\n",
       "      <td>892</td>\n",
       "      <td>0</td>\n",
       "      <td>3</td>\n",
       "      <td>Kelly, Mr. James</td>\n",
       "      <td>1</td>\n",
       "      <td>34.5</td>\n",
       "      <td>0</td>\n",
       "      <td>0</td>\n",
       "      <td>330911</td>\n",
       "      <td>7.8292</td>\n",
       "      <td>1</td>\n",
       "    </tr>\n",
       "    <tr>\n",
       "      <th>1</th>\n",
       "      <td>893</td>\n",
       "      <td>1</td>\n",
       "      <td>3</td>\n",
       "      <td>Wilkes, Mrs. James (Ellen Needs)</td>\n",
       "      <td>0</td>\n",
       "      <td>47.0</td>\n",
       "      <td>1</td>\n",
       "      <td>0</td>\n",
       "      <td>363272</td>\n",
       "      <td>7.0000</td>\n",
       "      <td>2</td>\n",
       "    </tr>\n",
       "    <tr>\n",
       "      <th>2</th>\n",
       "      <td>894</td>\n",
       "      <td>0</td>\n",
       "      <td>2</td>\n",
       "      <td>Myles, Mr. Thomas Francis</td>\n",
       "      <td>1</td>\n",
       "      <td>62.0</td>\n",
       "      <td>0</td>\n",
       "      <td>0</td>\n",
       "      <td>240276</td>\n",
       "      <td>9.6875</td>\n",
       "      <td>1</td>\n",
       "    </tr>\n",
       "    <tr>\n",
       "      <th>3</th>\n",
       "      <td>895</td>\n",
       "      <td>0</td>\n",
       "      <td>3</td>\n",
       "      <td>Wirz, Mr. Albert</td>\n",
       "      <td>1</td>\n",
       "      <td>27.0</td>\n",
       "      <td>0</td>\n",
       "      <td>0</td>\n",
       "      <td>315154</td>\n",
       "      <td>8.6625</td>\n",
       "      <td>2</td>\n",
       "    </tr>\n",
       "    <tr>\n",
       "      <th>4</th>\n",
       "      <td>896</td>\n",
       "      <td>1</td>\n",
       "      <td>3</td>\n",
       "      <td>Hirvonen, Mrs. Alexander (Helga E Lindqvist)</td>\n",
       "      <td>0</td>\n",
       "      <td>22.0</td>\n",
       "      <td>1</td>\n",
       "      <td>1</td>\n",
       "      <td>3101298</td>\n",
       "      <td>12.2875</td>\n",
       "      <td>2</td>\n",
       "    </tr>\n",
       "  </tbody>\n",
       "</table>\n",
       "</div>"
      ],
      "text/plain": [
       "   PassengerId  Survived  Pclass  \\\n",
       "0          892         0       3   \n",
       "1          893         1       3   \n",
       "2          894         0       2   \n",
       "3          895         0       3   \n",
       "4          896         1       3   \n",
       "\n",
       "                                           Name  Sex   Age  SibSp  Parch  \\\n",
       "0                              Kelly, Mr. James    1  34.5      0      0   \n",
       "1              Wilkes, Mrs. James (Ellen Needs)    0  47.0      1      0   \n",
       "2                     Myles, Mr. Thomas Francis    1  62.0      0      0   \n",
       "3                              Wirz, Mr. Albert    1  27.0      0      0   \n",
       "4  Hirvonen, Mrs. Alexander (Helga E Lindqvist)    0  22.0      1      1   \n",
       "\n",
       "    Ticket     Fare  Embarked  \n",
       "0   330911   7.8292         1  \n",
       "1   363272   7.0000         2  \n",
       "2   240276   9.6875         1  \n",
       "3   315154   8.6625         2  \n",
       "4  3101298  12.2875         2  "
      ]
     },
     "execution_count": 42,
     "metadata": {},
     "output_type": "execute_result"
    }
   ],
   "source": [
    "data.head()"
   ]
  },
  {
   "cell_type": "code",
   "execution_count": 43,
   "id": "3ed5e1af",
   "metadata": {
    "execution": {
     "iopub.execute_input": "2022-03-03T14:16:24.135274Z",
     "iopub.status.busy": "2022-03-03T14:16:24.134351Z",
     "iopub.status.idle": "2022-03-03T14:16:24.870537Z",
     "shell.execute_reply": "2022-03-03T14:16:24.869602Z",
     "shell.execute_reply.started": "2022-03-03T14:00:16.101790Z"
    },
    "papermill": {
     "duration": 0.8188,
     "end_time": "2022-03-03T14:16:24.870683",
     "exception": false,
     "start_time": "2022-03-03T14:16:24.051883",
     "status": "completed"
    },
    "tags": []
   },
   "outputs": [
    {
     "data": {
      "text/plain": [
       "<AxesSubplot:>"
      ]
     },
     "execution_count": 43,
     "metadata": {},
     "output_type": "execute_result"
    },
    {
     "data": {
      "image/png": "[encoded data removed]",
      "text/plain": [
       "<Figure size 1080x720 with 2 Axes>"
      ]
     },
     "metadata": {
      "needs_background": "light"
     },
     "output_type": "display_data"
    }
   ],
   "source": [
    "plt.figure(figsize=(15,10))\n",
    "sns.heatmap(data.corr(),annot=True,cmap='GnBu')"
   ]
  },
  {
   "cell_type": "code",
   "execution_count": 44,
   "id": "6e5bdb1a",
   "metadata": {
    "execution": {
     "iopub.execute_input": "2022-03-03T14:16:25.032358Z",
     "iopub.status.busy": "2022-03-03T14:16:25.031428Z",
     "iopub.status.idle": "2022-03-03T14:16:25.034140Z",
     "shell.execute_reply": "2022-03-03T14:16:25.033577Z",
     "shell.execute_reply.started": "2022-03-03T14:00:25.007426Z"
    },
    "papermill": {
     "duration": 0.086888,
     "end_time": "2022-03-03T14:16:25.034273",
     "exception": false,
     "start_time": "2022-03-03T14:16:24.947385",
     "status": "completed"
    },
    "tags": []
   },
   "outputs": [],
   "source": [
    "#Dropping non essential data\n",
    "data.drop(['Name','Ticket','PassengerId'],axis=1,inplace=True)"
   ]
  },
  {
   "cell_type": "code",
   "execution_count": 45,
   "id": "307c46a9",
   "metadata": {
    "execution": {
     "iopub.execute_input": "2022-03-03T14:16:25.197554Z",
     "iopub.status.busy": "2022-03-03T14:16:25.196619Z",
     "iopub.status.idle": "2022-03-03T14:16:25.203072Z",
     "shell.execute_reply": "2022-03-03T14:16:25.203656Z",
     "shell.execute_reply.started": "2022-03-03T14:00:53.357204Z"
    },
    "papermill": {
     "duration": 0.091247,
     "end_time": "2022-03-03T14:16:25.203838",
     "exception": false,
     "start_time": "2022-03-03T14:16:25.112591",
     "status": "completed"
    },
    "tags": []
   },
   "outputs": [
    {
     "data": {
      "text/html": [
       "<div>\n",
       "<style scoped>\n",
       "    .dataframe tbody tr th:only-of-type {\n",
       "        vertical-align: middle;\n",
       "    }\n",
       "\n",
       "    .dataframe tbody tr th {\n",
       "        vertical-align: top;\n",
       "    }\n",
       "\n",
       "    .dataframe thead th {\n",
       "        text-align: right;\n",
       "    }\n",
       "</style>\n",
       "<table border=\"1\" class=\"dataframe\">\n",
       "  <thead>\n",
       "    <tr style=\"text-align: right;\">\n",
       "      <th></th>\n",
       "      <th>Survived</th>\n",
       "      <th>Pclass</th>\n",
       "      <th>Sex</th>\n",
       "      <th>Age</th>\n",
       "      <th>SibSp</th>\n",
       "      <th>Parch</th>\n",
       "      <th>Fare</th>\n",
       "      <th>Embarked</th>\n",
       "    </tr>\n",
       "  </thead>\n",
       "  <tbody>\n",
       "    <tr>\n",
       "      <th>0</th>\n",
       "      <td>0</td>\n",
       "      <td>3</td>\n",
       "      <td>1</td>\n",
       "      <td>34.5</td>\n",
       "      <td>0</td>\n",
       "      <td>0</td>\n",
       "      <td>7.8292</td>\n",
       "      <td>1</td>\n",
       "    </tr>\n",
       "    <tr>\n",
       "      <th>1</th>\n",
       "      <td>1</td>\n",
       "      <td>3</td>\n",
       "      <td>0</td>\n",
       "      <td>47.0</td>\n",
       "      <td>1</td>\n",
       "      <td>0</td>\n",
       "      <td>7.0000</td>\n",
       "      <td>2</td>\n",
       "    </tr>\n",
       "    <tr>\n",
       "      <th>2</th>\n",
       "      <td>0</td>\n",
       "      <td>2</td>\n",
       "      <td>1</td>\n",
       "      <td>62.0</td>\n",
       "      <td>0</td>\n",
       "      <td>0</td>\n",
       "      <td>9.6875</td>\n",
       "      <td>1</td>\n",
       "    </tr>\n",
       "    <tr>\n",
       "      <th>3</th>\n",
       "      <td>0</td>\n",
       "      <td>3</td>\n",
       "      <td>1</td>\n",
       "      <td>27.0</td>\n",
       "      <td>0</td>\n",
       "      <td>0</td>\n",
       "      <td>8.6625</td>\n",
       "      <td>2</td>\n",
       "    </tr>\n",
       "    <tr>\n",
       "      <th>4</th>\n",
       "      <td>1</td>\n",
       "      <td>3</td>\n",
       "      <td>0</td>\n",
       "      <td>22.0</td>\n",
       "      <td>1</td>\n",
       "      <td>1</td>\n",
       "      <td>12.2875</td>\n",
       "      <td>2</td>\n",
       "    </tr>\n",
       "  </tbody>\n",
       "</table>\n",
       "</div>"
      ],
      "text/plain": [
       "   Survived  Pclass  Sex   Age  SibSp  Parch     Fare  Embarked\n",
       "0         0       3    1  34.5      0      0   7.8292         1\n",
       "1         1       3    0  47.0      1      0   7.0000         2\n",
       "2         0       2    1  62.0      0      0   9.6875         1\n",
       "3         0       3    1  27.0      0      0   8.6625         2\n",
       "4         1       3    0  22.0      1      1  12.2875         2"
      ]
     },
     "execution_count": 45,
     "metadata": {},
     "output_type": "execute_result"
    }
   ],
   "source": [
    "data.head()"
   ]
  },
  {
   "cell_type": "code",
   "execution_count": 46,
   "id": "8392d631",
   "metadata": {
    "execution": {
     "iopub.execute_input": "2022-03-03T14:16:25.362372Z",
     "iopub.status.busy": "2022-03-03T14:16:25.361489Z",
     "iopub.status.idle": "2022-03-03T14:16:25.363641Z",
     "shell.execute_reply": "2022-03-03T14:16:25.364180Z",
     "shell.execute_reply.started": "2022-03-03T14:01:02.303584Z"
    },
    "papermill": {
     "duration": 0.083867,
     "end_time": "2022-03-03T14:16:25.364366",
     "exception": false,
     "start_time": "2022-03-03T14:16:25.280499",
     "status": "completed"
    },
    "tags": []
   },
   "outputs": [],
   "source": [
    "x=data.drop('Survived',axis=1)\n",
    "y=data['Survived']"
   ]
  },
  {
   "cell_type": "code",
   "execution_count": 47,
   "id": "3cb407eb",
   "metadata": {
    "execution": {
     "iopub.execute_input": "2022-03-03T14:16:25.521243Z",
     "iopub.status.busy": "2022-03-03T14:16:25.520337Z",
     "iopub.status.idle": "2022-03-03T14:16:25.573232Z",
     "shell.execute_reply": "2022-03-03T14:16:25.572765Z",
     "shell.execute_reply.started": "2022-03-03T14:01:40.511549Z"
    },
    "papermill": {
     "duration": 0.133311,
     "end_time": "2022-03-03T14:16:25.573404",
     "exception": false,
     "start_time": "2022-03-03T14:16:25.440093",
     "status": "completed"
    },
    "tags": []
   },
   "outputs": [
    {
     "data": {
      "text/plain": [
       "((292, 7), (126, 7), (292,), (126,))"
      ]
     },
     "execution_count": 47,
     "metadata": {},
     "output_type": "execute_result"
    }
   ],
   "source": [
    "from sklearn.model_selection import train_test_split\n",
    "X_train,X_test,y_train,y_test=train_test_split(x,y,test_size=0.3,random_state=30)\n",
    "X_train.shape,X_test.shape,y_train.shape,y_test.shape"
   ]
  },
  {
   "cell_type": "markdown",
   "id": "fc965fcb",
   "metadata": {
    "papermill": {
     "duration": 0.075978,
     "end_time": "2022-03-03T14:16:25.726015",
     "exception": false,
     "start_time": "2022-03-03T14:16:25.650037",
     "status": "completed"
    },
    "tags": []
   },
   "source": [
    "# Using logistic regression"
   ]
  },
  {
   "cell_type": "code",
   "execution_count": 48,
   "id": "1d09cca9",
   "metadata": {
    "execution": {
     "iopub.execute_input": "2022-03-03T14:16:25.882342Z",
     "iopub.status.busy": "2022-03-03T14:16:25.881394Z",
     "iopub.status.idle": "2022-03-03T14:16:25.961826Z",
     "shell.execute_reply": "2022-03-03T14:16:25.961179Z",
     "shell.execute_reply.started": "2022-03-03T14:03:25.475013Z"
    },
    "papermill": {
     "duration": 0.159799,
     "end_time": "2022-03-03T14:16:25.961961",
     "exception": false,
     "start_time": "2022-03-03T14:16:25.802162",
     "status": "completed"
    },
    "tags": []
   },
   "outputs": [],
   "source": [
    "from sklearn.linear_model import LogisticRegression"
   ]
  },
  {
   "cell_type": "code",
   "execution_count": 49,
   "id": "85d508c4",
   "metadata": {
    "execution": {
     "iopub.execute_input": "2022-03-03T14:16:26.122240Z",
     "iopub.status.busy": "2022-03-03T14:16:26.121283Z",
     "iopub.status.idle": "2022-03-03T14:16:26.162879Z",
     "shell.execute_reply": "2022-03-03T14:16:26.161988Z",
     "shell.execute_reply.started": "2022-03-03T14:03:30.306269Z"
    },
    "papermill": {
     "duration": 0.12408,
     "end_time": "2022-03-03T14:16:26.163071",
     "exception": false,
     "start_time": "2022-03-03T14:16:26.038991",
     "status": "completed"
    },
    "tags": []
   },
   "outputs": [
    {
     "name": "stderr",
     "output_type": "stream",
     "text": [
      "C:\\Users\\BOAZ\\anaconda3\\lib\\site-packages\\sklearn\\linear_model\\_logistic.py:763: ConvergenceWarning: lbfgs failed to converge (status=1):\n",
      "STOP: TOTAL NO. of ITERATIONS REACHED LIMIT.\n",
      "\n",
      "Increase the number of iterations (max_iter) or scale the data as shown in:\n",
      "    https://scikit-learn.org/stable/modules/preprocessing.html\n",
      "Please also refer to the documentation for alternative solver options:\n",
      "    https://scikit-learn.org/stable/modules/linear_model.html#logistic-regression\n",
      "  n_iter_i = _check_optimize_result(\n"
     ]
    },
    {
     "data": {
      "text/plain": [
       "345    1\n",
       "378    0\n",
       "178    1\n",
       "367    1\n",
       "191    0\n",
       "      ..\n",
       "220    1\n",
       "93     0\n",
       "353    0\n",
       "132    1\n",
       "97     0\n",
       "Name: Survived, Length: 126, dtype: int64"
      ]
     },
     "execution_count": 49,
     "metadata": {},
     "output_type": "execute_result"
    }
   ],
   "source": [
    "model=LogisticRegression()\n",
    "model.fit(X_train,y_train)\n",
    "y_pred=model.predict(X_test)\n",
    "y_test"
   ]
  },
  {
   "cell_type": "code",
   "execution_count": 50,
   "id": "c5a1c39e",
   "metadata": {
    "execution": {
     "iopub.execute_input": "2022-03-03T14:16:26.321261Z",
     "iopub.status.busy": "2022-03-03T14:16:26.320271Z",
     "iopub.status.idle": "2022-03-03T14:16:26.326098Z",
     "shell.execute_reply": "2022-03-03T14:16:26.326691Z",
     "shell.execute_reply.started": "2022-03-03T14:03:40.387371Z"
    },
    "papermill": {
     "duration": 0.086425,
     "end_time": "2022-03-03T14:16:26.326856",
     "exception": false,
     "start_time": "2022-03-03T14:16:26.240431",
     "status": "completed"
    },
    "tags": []
   },
   "outputs": [
    {
     "data": {
      "text/plain": [
       "array([1, 0, 1, 1, 0, 0, 0, 0, 1, 1, 0, 0, 1, 0, 0, 0, 1, 1, 0, 0, 1, 0,\n",
       "       0, 0, 1, 0, 1, 0, 0, 1, 1, 0, 1, 0, 1, 0, 0, 1, 0, 1, 0, 0, 0, 0,\n",
       "       1, 0, 0, 1, 0, 0, 1, 1, 0, 1, 0, 0, 0, 0, 0, 0, 1, 1, 0, 0, 1, 0,\n",
       "       1, 0, 1, 0, 0, 0, 0, 0, 0, 1, 1, 0, 0, 0, 1, 0, 0, 1, 0, 1, 0, 0,\n",
       "       0, 0, 0, 1, 1, 1, 1, 0, 0, 0, 1, 1, 1, 0, 1, 1, 0, 0, 0, 0, 0, 1,\n",
       "       0, 0, 1, 0, 1, 1, 0, 1, 0, 0, 0, 1, 0, 0, 1, 0], dtype=int64)"
      ]
     },
     "execution_count": 50,
     "metadata": {},
     "output_type": "execute_result"
    }
   ],
   "source": [
    "y_pred"
   ]
  },
  {
   "cell_type": "code",
   "execution_count": 51,
   "id": "d134a21c",
   "metadata": {
    "execution": {
     "iopub.execute_input": "2022-03-03T14:16:26.487369Z",
     "iopub.status.busy": "2022-03-03T14:16:26.486410Z",
     "iopub.status.idle": "2022-03-03T14:16:26.493102Z",
     "shell.execute_reply": "2022-03-03T14:16:26.493709Z",
     "shell.execute_reply.started": "2022-03-03T14:03:49.508822Z"
    },
    "papermill": {
     "duration": 0.087653,
     "end_time": "2022-03-03T14:16:26.493953",
     "exception": false,
     "start_time": "2022-03-03T14:16:26.406300",
     "status": "completed"
    },
    "tags": []
   },
   "outputs": [
    {
     "data": {
      "text/plain": [
       "100.0"
      ]
     },
     "execution_count": 51,
     "metadata": {},
     "output_type": "execute_result"
    }
   ],
   "source": [
    "from sklearn.metrics import accuracy_score\n",
    "lr=accuracy_score(y_test,y_pred)*100\n",
    "lr"
   ]
  },
  {
   "cell_type": "markdown",
   "id": "aa96403e",
   "metadata": {
    "papermill": {
     "duration": 0.078081,
     "end_time": "2022-03-03T14:16:26.650950",
     "exception": false,
     "start_time": "2022-03-03T14:16:26.572869",
     "status": "completed"
    },
    "tags": []
   },
   "source": [
    "# Using NAive-Bayes"
   ]
  },
  {
   "cell_type": "code",
   "execution_count": 52,
   "id": "9f0cd491",
   "metadata": {
    "execution": {
     "iopub.execute_input": "2022-03-03T14:16:26.810133Z",
     "iopub.status.busy": "2022-03-03T14:16:26.809238Z",
     "iopub.status.idle": "2022-03-03T14:16:26.819539Z",
     "shell.execute_reply": "2022-03-03T14:16:26.820027Z",
     "shell.execute_reply.started": "2022-03-03T14:04:29.094466Z"
    },
    "papermill": {
     "duration": 0.091178,
     "end_time": "2022-03-03T14:16:26.820187",
     "exception": false,
     "start_time": "2022-03-03T14:16:26.729009",
     "status": "completed"
    },
    "tags": []
   },
   "outputs": [],
   "source": [
    "from sklearn.naive_bayes import GaussianNB\n",
    "classifier=GaussianNB()\n",
    "classifier.fit(X_train,y_train)\n",
    "y_pred = classifier.predict(X_test)"
   ]
  },
  {
   "cell_type": "code",
   "execution_count": 53,
   "id": "be913f2c",
   "metadata": {
    "execution": {
     "iopub.execute_input": "2022-03-03T14:16:26.983877Z",
     "iopub.status.busy": "2022-03-03T14:16:26.982905Z",
     "iopub.status.idle": "2022-03-03T14:16:26.987332Z",
     "shell.execute_reply": "2022-03-03T14:16:26.987861Z",
     "shell.execute_reply.started": "2022-03-03T14:04:46.795371Z"
    },
    "papermill": {
     "duration": 0.090005,
     "end_time": "2022-03-03T14:16:26.988030",
     "exception": false,
     "start_time": "2022-03-03T14:16:26.898025",
     "status": "completed"
    },
    "tags": []
   },
   "outputs": [
    {
     "data": {
      "text/plain": [
       "100.0"
      ]
     },
     "execution_count": 53,
     "metadata": {},
     "output_type": "execute_result"
    }
   ],
   "source": [
    "from sklearn.metrics import accuracy_score\n",
    "nb=accuracy_score(y_test,y_pred)*100\n",
    "nb"
   ]
  },
  {
   "cell_type": "markdown",
   "id": "5598f485",
   "metadata": {
    "papermill": {
     "duration": 0.080216,
     "end_time": "2022-03-03T14:16:27.147978",
     "exception": false,
     "start_time": "2022-03-03T14:16:27.067762",
     "status": "completed"
    },
    "tags": []
   },
   "source": [
    "#Using Decision Tree"
   ]
  },
  {
   "cell_type": "code",
   "execution_count": 54,
   "id": "e21b11a7",
   "metadata": {
    "execution": {
     "iopub.execute_input": "2022-03-03T14:16:27.309463Z",
     "iopub.status.busy": "2022-03-03T14:16:27.308771Z",
     "iopub.status.idle": "2022-03-03T14:16:27.392629Z",
     "shell.execute_reply": "2022-03-03T14:16:27.391975Z",
     "shell.execute_reply.started": "2022-03-03T14:05:11.799374Z"
    },
    "papermill": {
     "duration": 0.165943,
     "end_time": "2022-03-03T14:16:27.392763",
     "exception": false,
     "start_time": "2022-03-03T14:16:27.226820",
     "status": "completed"
    },
    "tags": []
   },
   "outputs": [],
   "source": [
    "from sklearn.tree import DecisionTreeClassifier\n",
    "clf=DecisionTreeClassifier()\n",
    "clf.fit(X_train,y_train)\n",
    "y_pred=clf.predict(X_test)"
   ]
  },
  {
   "cell_type": "code",
   "execution_count": 55,
   "id": "1788e85f",
   "metadata": {
    "execution": {
     "iopub.execute_input": "2022-03-03T14:16:27.552929Z",
     "iopub.status.busy": "2022-03-03T14:16:27.552372Z",
     "iopub.status.idle": "2022-03-03T14:16:27.557259Z",
     "shell.execute_reply": "2022-03-03T14:16:27.557710Z",
     "shell.execute_reply.started": "2022-03-03T14:05:18.336148Z"
    },
    "papermill": {
     "duration": 0.08673,
     "end_time": "2022-03-03T14:16:27.557896",
     "exception": false,
     "start_time": "2022-03-03T14:16:27.471166",
     "status": "completed"
    },
    "tags": []
   },
   "outputs": [
    {
     "data": {
      "text/plain": [
       "100.0"
      ]
     },
     "execution_count": 55,
     "metadata": {},
     "output_type": "execute_result"
    }
   ],
   "source": [
    "#Accuracy using Decision Tree\n",
    "from sklearn import metrics\n",
    "dt=metrics.accuracy_score(y_test,y_pred)*100\n",
    "dt"
   ]
  },
  {
   "cell_type": "code",
   "execution_count": 56,
   "id": "02fdf3f5",
   "metadata": {
    "execution": {
     "iopub.execute_input": "2022-03-03T14:16:27.721167Z",
     "iopub.status.busy": "2022-03-03T14:16:27.720218Z",
     "iopub.status.idle": "2022-03-03T14:16:27.722618Z",
     "shell.execute_reply": "2022-03-03T14:16:27.723035Z",
     "shell.execute_reply.started": "2022-03-03T14:05:24.350414Z"
    },
    "papermill": {
     "duration": 0.085511,
     "end_time": "2022-03-03T14:16:27.723206",
     "exception": false,
     "start_time": "2022-03-03T14:16:27.637695",
     "status": "completed"
    },
    "tags": []
   },
   "outputs": [],
   "source": [
    "feature_cols=['Pclass','Sex','Age','SibSp','Parch','Fare','Embarked']"
   ]
  },
  {
   "cell_type": "markdown",
   "id": "556688ce",
   "metadata": {
    "papermill": {
     "duration": 0.077688,
     "end_time": "2022-03-03T14:16:27.880145",
     "exception": false,
     "start_time": "2022-03-03T14:16:27.802457",
     "status": "completed"
    },
    "tags": []
   },
   "source": [
    "# SVM"
   ]
  },
  {
   "cell_type": "code",
   "execution_count": 57,
   "id": "26eba6f6",
   "metadata": {
    "execution": {
     "iopub.execute_input": "2022-03-03T14:16:28.044144Z",
     "iopub.status.busy": "2022-03-03T14:16:28.043556Z",
     "iopub.status.idle": "2022-03-03T14:16:28.053219Z",
     "shell.execute_reply": "2022-03-03T14:16:28.053743Z",
     "shell.execute_reply.started": "2022-03-03T14:06:22.505908Z"
    },
    "papermill": {
     "duration": 0.093871,
     "end_time": "2022-03-03T14:16:28.053915",
     "exception": false,
     "start_time": "2022-03-03T14:16:27.960044",
     "status": "completed"
    },
    "tags": []
   },
   "outputs": [],
   "source": [
    "from sklearn.svm import SVC\n",
    "svc_classifier=SVC(kernel='linear')\n",
    "svc_classifier.fit(X_train,y_train)\n",
    "y_pred=svc_classifier.predict(X_test)"
   ]
  },
  {
   "cell_type": "code",
   "execution_count": 58,
   "id": "d8213d40",
   "metadata": {
    "execution": {
     "iopub.execute_input": "2022-03-03T14:16:28.215645Z",
     "iopub.status.busy": "2022-03-03T14:16:28.214811Z",
     "iopub.status.idle": "2022-03-03T14:16:28.220525Z",
     "shell.execute_reply": "2022-03-03T14:16:28.221030Z",
     "shell.execute_reply.started": "2022-03-03T14:09:47.408211Z"
    },
    "papermill": {
     "duration": 0.087037,
     "end_time": "2022-03-03T14:16:28.221197",
     "exception": false,
     "start_time": "2022-03-03T14:16:28.134160",
     "status": "completed"
    },
    "tags": []
   },
   "outputs": [],
   "source": [
    "y_pred=svc_classifier.predict(X_test)"
   ]
  },
  {
   "cell_type": "code",
   "execution_count": 59,
   "id": "5fd77286",
   "metadata": {
    "execution": {
     "iopub.execute_input": "2022-03-03T14:16:28.385033Z",
     "iopub.status.busy": "2022-03-03T14:16:28.382869Z",
     "iopub.status.idle": "2022-03-03T14:16:28.388852Z",
     "shell.execute_reply": "2022-03-03T14:16:28.389384Z",
     "shell.execute_reply.started": "2022-03-03T14:10:10.681440Z"
    },
    "papermill": {
     "duration": 0.08722,
     "end_time": "2022-03-03T14:16:28.389547",
     "exception": false,
     "start_time": "2022-03-03T14:16:28.302327",
     "status": "completed"
    },
    "tags": []
   },
   "outputs": [
    {
     "data": {
      "text/plain": [
       "100.0"
      ]
     },
     "execution_count": 59,
     "metadata": {},
     "output_type": "execute_result"
    }
   ],
   "source": [
    "from sklearn import metrics\n",
    "sv=metrics.accuracy_score(y_test,y_pred)*100\n",
    "sv"
   ]
  },
  {
   "cell_type": "markdown",
   "id": "0a478eba",
   "metadata": {
    "papermill": {
     "duration": 0.078406,
     "end_time": "2022-03-03T14:16:28.547615",
     "exception": false,
     "start_time": "2022-03-03T14:16:28.469209",
     "status": "completed"
    },
    "tags": []
   },
   "source": [
    " Using KNN"
   ]
  },
  {
   "cell_type": "code",
   "execution_count": 60,
   "id": "b90a7f89",
   "metadata": {
    "execution": {
     "iopub.execute_input": "2022-03-03T14:16:28.708258Z",
     "iopub.status.busy": "2022-03-03T14:16:28.707690Z",
     "iopub.status.idle": "2022-03-03T14:16:28.774572Z",
     "shell.execute_reply": "2022-03-03T14:16:28.775166Z",
     "shell.execute_reply.started": "2022-03-03T14:10:34.875744Z"
    },
    "papermill": {
     "duration": 0.148728,
     "end_time": "2022-03-03T14:16:28.775355",
     "exception": false,
     "start_time": "2022-03-03T14:16:28.626627",
     "status": "completed"
    },
    "tags": []
   },
   "outputs": [
    {
     "name": "stdout",
     "output_type": "stream",
     "text": [
      "3 68.25396825396825\n",
      "4 69.84126984126983\n",
      "5 66.66666666666666\n",
      "6 67.46031746031747\n",
      "7 66.66666666666666\n",
      "8 64.28571428571429\n",
      "9 64.28571428571429\n"
     ]
    }
   ],
   "source": [
    "from sklearn.neighbors import KNeighborsClassifier\n",
    "for i in range(3,10):\n",
    "    knn_classifier=KNeighborsClassifier(n_neighbors=i,metric='euclidean')\n",
    "    knn_classifier.fit(X_train,y_train)\n",
    "    y_pred=knn_classifier.predict(X_test)\n",
    "    from sklearn import metrics\n",
    "    print(i, metrics.accuracy_score(y_test,y_pred)*100)"
   ]
  },
  {
   "cell_type": "code",
   "execution_count": 61,
   "id": "b9e4917b",
   "metadata": {
    "execution": {
     "iopub.execute_input": "2022-03-03T14:16:28.939645Z",
     "iopub.status.busy": "2022-03-03T14:16:28.938893Z",
     "iopub.status.idle": "2022-03-03T14:16:28.953090Z",
     "shell.execute_reply": "2022-03-03T14:16:28.953585Z",
     "shell.execute_reply.started": "2022-03-03T14:11:00.692483Z"
    },
    "papermill": {
     "duration": 0.098161,
     "end_time": "2022-03-03T14:16:28.953764",
     "exception": false,
     "start_time": "2022-03-03T14:16:28.855603",
     "status": "completed"
    },
    "tags": []
   },
   "outputs": [
    {
     "data": {
      "text/plain": [
       "69.84126984126983"
      ]
     },
     "execution_count": 61,
     "metadata": {},
     "output_type": "execute_result"
    }
   ],
   "source": [
    "#Hence maximum accuracy in KNN is at n=4\n",
    "knn_classifier=KNeighborsClassifier(n_neighbors=4,metric='euclidean')\n",
    "knn_classifier.fit(X_train,y_train)\n",
    "y_pred=knn_classifier.predict(X_test)\n",
    "from sklearn import metrics\n",
    "kn=metrics.accuracy_score(y_test,y_pred)*100\n",
    "kn"
   ]
  },
  {
   "cell_type": "code",
   "execution_count": 62,
   "id": "0a4572f7",
   "metadata": {
    "execution": {
     "iopub.execute_input": "2022-03-03T14:16:29.120897Z",
     "iopub.status.busy": "2022-03-03T14:16:29.120334Z",
     "iopub.status.idle": "2022-03-03T14:16:29.247229Z",
     "shell.execute_reply": "2022-03-03T14:16:29.246703Z",
     "shell.execute_reply.started": "2022-03-03T14:11:07.478272Z"
    },
    "papermill": {
     "duration": 0.209378,
     "end_time": "2022-03-03T14:16:29.247397",
     "exception": false,
     "start_time": "2022-03-03T14:16:29.038019",
     "status": "completed"
    },
    "tags": []
   },
   "outputs": [],
   "source": [
    "#Important columns in model\n",
    "from sklearn.ensemble import RandomForestClassifier\n",
    "radm_clf=RandomForestClassifier(max_depth=10,n_estimators=40)\n",
    "radm_clf.fit(X_train,y_train)\n",
    "feature_rank=pd.DataFrame({'feature':X_train.columns,'importance':radm_clf.feature_importances_})"
   ]
  },
  {
   "cell_type": "code",
   "execution_count": 63,
   "id": "d996dd3e",
   "metadata": {
    "execution": {
     "iopub.execute_input": "2022-03-03T14:16:29.408429Z",
     "iopub.status.busy": "2022-03-03T14:16:29.407765Z",
     "iopub.status.idle": "2022-03-03T14:16:29.630012Z",
     "shell.execute_reply": "2022-03-03T14:16:29.630457Z",
     "shell.execute_reply.started": "2022-03-03T14:11:12.545461Z"
    },
    "papermill": {
     "duration": 0.30459,
     "end_time": "2022-03-03T14:16:29.630633",
     "exception": false,
     "start_time": "2022-03-03T14:16:29.326043",
     "status": "completed"
    },
    "tags": []
   },
   "outputs": [
    {
     "data": {
      "text/plain": [
       "<AxesSubplot:xlabel='importance', ylabel='feature'>"
      ]
     },
     "execution_count": 63,
     "metadata": {},
     "output_type": "execute_result"
    },
    {
     "data": {
      "image/png": "[encoded data removed]",
      "text/plain": [
       "<Figure size 576x432 with 1 Axes>"
      ]
     },
     "metadata": {
      "needs_background": "light"
     },
     "output_type": "display_data"
    }
   ],
   "source": [
    "feature_rank=feature_rank.sort_values('importance',ascending=False)\n",
    "plt.figure(figsize=(8,6))\n",
    "sns.barplot(y='feature',x='importance',data=feature_rank)"
   ]
  },
  {
   "cell_type": "code",
   "execution_count": 64,
   "id": "5c7e2bea",
   "metadata": {
    "execution": {
     "iopub.execute_input": "2022-03-03T14:16:29.797930Z",
     "iopub.status.busy": "2022-03-03T14:16:29.797238Z",
     "iopub.status.idle": "2022-03-03T14:16:45.351350Z",
     "shell.execute_reply": "2022-03-03T14:16:45.352263Z",
     "shell.execute_reply.started": "2022-03-03T14:11:23.073243Z"
    },
    "papermill": {
     "duration": 15.641437,
     "end_time": "2022-03-03T14:16:45.352573",
     "exception": false,
     "start_time": "2022-03-03T14:16:29.711136",
     "status": "completed"
    },
    "tags": []
   },
   "outputs": [
    {
     "data": {
      "text/plain": [
       "GridSearchCV(cv=5, estimator=RandomForestClassifier(),\n",
       "             param_grid=[{'max_depth': [10, 20, 30, 40],\n",
       "                          'n_estimators': [10, 20, 30, 40, 50, 60, 70, 80, 90,\n",
       "                                           100]}],\n",
       "             scoring='accuracy')"
      ]
     },
     "execution_count": 64,
     "metadata": {},
     "output_type": "execute_result"
    }
   ],
   "source": [
    "#Using RandomForestClassifier method\n",
    "from sklearn.ensemble import RandomForestClassifier\n",
    "from sklearn.model_selection import RandomizedSearchCV, GridSearchCV\n",
    "tuned_parameters=[{'max_depth':[10,20,30,40],'n_estimators':[10,20,30,40,50,60,70,80,90,100]}]\n",
    "radm_clf=RandomForestClassifier()\n",
    "clf_grid=GridSearchCV(radm_clf,tuned_parameters,cv=5,scoring='accuracy')\n",
    "clf_grid.fit(X_train,y_train)"
   ]
  },
  {
   "cell_type": "code",
   "execution_count": 65,
   "id": "4c23ae39",
   "metadata": {
    "execution": {
     "iopub.execute_input": "2022-03-03T14:16:45.517654Z",
     "iopub.status.busy": "2022-03-03T14:16:45.517062Z",
     "iopub.status.idle": "2022-03-03T14:16:45.520756Z",
     "shell.execute_reply": "2022-03-03T14:16:45.521195Z",
     "shell.execute_reply.started": "2022-03-03T14:11:48.363988Z"
    },
    "papermill": {
     "duration": 0.087661,
     "end_time": "2022-03-03T14:16:45.521367",
     "exception": false,
     "start_time": "2022-03-03T14:16:45.433706",
     "status": "completed"
    },
    "tags": []
   },
   "outputs": [
    {
     "data": {
      "text/plain": [
       "{'max_depth': 10, 'n_estimators': 10}"
      ]
     },
     "execution_count": 65,
     "metadata": {},
     "output_type": "execute_result"
    }
   ],
   "source": [
    "clf_grid.best_params_"
   ]
  },
  {
   "cell_type": "code",
   "execution_count": 66,
   "id": "a83205e2",
   "metadata": {
    "execution": {
     "iopub.execute_input": "2022-03-03T14:16:45.689402Z",
     "iopub.status.busy": "2022-03-03T14:16:45.688794Z",
     "iopub.status.idle": "2022-03-03T14:16:45.692891Z",
     "shell.execute_reply": "2022-03-03T14:16:45.693280Z",
     "shell.execute_reply.started": "2022-03-03T14:11:56.730816Z"
    },
    "papermill": {
     "duration": 0.088537,
     "end_time": "2022-03-03T14:16:45.693464",
     "exception": false,
     "start_time": "2022-03-03T14:16:45.604927",
     "status": "completed"
    },
    "tags": []
   },
   "outputs": [
    {
     "data": {
      "text/plain": [
       "100.0"
      ]
     },
     "execution_count": 66,
     "metadata": {},
     "output_type": "execute_result"
    }
   ],
   "source": [
    "clf_grid.best_score_*100"
   ]
  },
  {
   "cell_type": "code",
   "execution_count": 67,
   "id": "270daeb1",
   "metadata": {
    "execution": {
     "iopub.execute_input": "2022-03-03T14:16:45.870145Z",
     "iopub.status.busy": "2022-03-03T14:16:45.869104Z",
     "iopub.status.idle": "2022-03-03T14:16:45.888056Z",
     "shell.execute_reply": "2022-03-03T14:16:45.888610Z",
     "shell.execute_reply.started": "2022-03-03T14:12:14.320919Z"
    },
    "papermill": {
     "duration": 0.113077,
     "end_time": "2022-03-03T14:16:45.888789",
     "exception": false,
     "start_time": "2022-03-03T14:16:45.775712",
     "status": "completed"
    },
    "tags": []
   },
   "outputs": [
    {
     "data": {
      "text/plain": [
       "RandomForestClassifier(max_depth=10, n_estimators=10)"
      ]
     },
     "execution_count": 67,
     "metadata": {},
     "output_type": "execute_result"
    }
   ],
   "source": [
    "#FInal model using best params\n",
    "radm_clf=RandomForestClassifier(max_depth=10,n_estimators=10,max_features='auto')\n",
    "radm_clf.fit(X_train,y_train)\n"
   ]
  },
  {
   "cell_type": "code",
   "execution_count": 68,
   "id": "35146ae8",
   "metadata": {
    "execution": {
     "iopub.execute_input": "2022-03-03T14:16:46.058995Z",
     "iopub.status.busy": "2022-03-03T14:16:46.058118Z",
     "iopub.status.idle": "2022-03-03T14:16:46.067382Z",
     "shell.execute_reply": "2022-03-03T14:16:46.067899Z",
     "shell.execute_reply.started": "2022-03-03T14:12:19.553195Z"
    },
    "papermill": {
     "duration": 0.094582,
     "end_time": "2022-03-03T14:16:46.068061",
     "exception": false,
     "start_time": "2022-03-03T14:16:45.973479",
     "status": "completed"
    },
    "tags": []
   },
   "outputs": [
    {
     "data": {
      "text/plain": [
       "100.0"
      ]
     },
     "execution_count": 68,
     "metadata": {},
     "output_type": "execute_result"
    }
   ],
   "source": [
    "y_pred=radm_clf.predict(X_test)\n",
    "rf=accuracy_score(y_test,y_pred)*100\n",
    "rf"
   ]
  },
  {
   "cell_type": "code",
   "execution_count": 69,
   "id": "4ae5ad38",
   "metadata": {
    "execution": {
     "iopub.execute_input": "2022-03-03T14:16:46.269353Z",
     "iopub.status.busy": "2022-03-03T14:16:46.268433Z",
     "iopub.status.idle": "2022-03-03T14:16:46.274353Z",
     "shell.execute_reply": "2022-03-03T14:16:46.274847Z",
     "shell.execute_reply.started": "2022-03-03T14:12:29.338630Z"
    },
    "papermill": {
     "duration": 0.1079,
     "end_time": "2022-03-03T14:16:46.275005",
     "exception": false,
     "start_time": "2022-03-03T14:16:46.167105",
     "status": "completed"
    },
    "tags": []
   },
   "outputs": [
    {
     "data": {
      "text/plain": [
       "[100.0, 100.0, 100.0, 100.0, 69.84126984126983, 100.0]"
      ]
     },
     "execution_count": 69,
     "metadata": {},
     "output_type": "execute_result"
    }
   ],
   "source": [
    "feature=['LogisticRegression','NaiveBayes','DecisionTree','SVM','KNN','RandomForest']\n",
    "accurate=[lr,nb,dt,sv,kn,rf]\n",
    "accurate"
   ]
  },
  {
   "cell_type": "code",
   "execution_count": 70,
   "id": "87d0f049",
   "metadata": {
    "execution": {
     "iopub.execute_input": "2022-03-03T14:16:46.443877Z",
     "iopub.status.busy": "2022-03-03T14:16:46.442931Z",
     "iopub.status.idle": "2022-03-03T14:16:46.612433Z",
     "shell.execute_reply": "2022-03-03T14:16:46.612856Z",
     "shell.execute_reply.started": "2022-03-03T14:12:39.960515Z"
    },
    "papermill": {
     "duration": 0.255161,
     "end_time": "2022-03-03T14:16:46.613029",
     "exception": false,
     "start_time": "2022-03-03T14:16:46.357868",
     "status": "completed"
    },
    "tags": []
   },
   "outputs": [
    {
     "data": {
      "image/png": "[encoded data removed]",
      "text/plain": [
       "<Figure size 648x216 with 1 Axes>"
      ]
     },
     "metadata": {
      "needs_background": "light"
     },
     "output_type": "display_data"
    }
   ],
   "source": [
    "names = feature\n",
    "values = accurate\n",
    "\n",
    "plt.figure(figsize=(9, 3))\n",
    "\n",
    "\n",
    "plt.plot(names, values)\n",
    "plt.show()\n"
   ]
  },
  {
   "cell_type": "markdown",
   "id": "1ffbe4ba",
   "metadata": {
    "papermill": {
     "duration": 0.087491,
     "end_time": "2022-03-03T14:16:46.787104",
     "exception": false,
     "start_time": "2022-03-03T14:16:46.699613",
     "status": "completed"
    },
    "tags": []
   },
   "source": [
    "HENCE BEST MODEL CAN BE ANY AMONG Logistic Regression, NaiveBayes, DecisionTree, SVM and RandomForest"
   ]
  },
  {
   "cell_type": "markdown",
   "id": "ce28e5e1",
   "metadata": {
    "papermill": {
     "duration": 0.084084,
     "end_time": "2022-03-03T14:16:46.960915",
     "exception": false,
     "start_time": "2022-03-03T14:16:46.876831",
     "status": "completed"
    },
    "tags": []
   },
   "source": [
    "Thank You"
   ]
  },
  {
   "cell_type": "code",
   "execution_count": 71,
   "id": "591a0e40",
   "metadata": {},
   "outputs": [],
   "source": [
    "import pyforest"
   ]
  },
  {
   "cell_type": "code",
   "execution_count": 72,
   "id": "3b819870",
   "metadata": {},
   "outputs": [],
   "source": [
    "# Model Class to be used for different ML algorithms\n",
    "class ClassifierModel(object):\n",
    "    def __init__(self, clf, params=None):\n",
    "        self.clf = clf(**params)\n",
    "def train(self, x_train, y_train):\n",
    "        self.clf.fit(x_train, y_train)\n",
    "    \n",
    "        def fit(self,x,y):\n",
    "            return self.clf.fit(x,y)\n",
    "    \n",
    "        def feature_importances(self,x,y):\n",
    "            return self.clf.fit(x,y).feature_importances_\n",
    "        \n",
    "        def predict(self, x):\n",
    "            return self.clf.predict(x)\n",
    "        \n",
    "def trainModel(model, x_train, y_train, x_test, n_folds, seed):\n",
    "    cv = KFold(n_splits= n_folds, random_state=seed)\n",
    "    scores = cross_val_score(model.clf, x_train, y_train, scoring='accuracy', cv=cv, n_jobs=-1)\n",
    "    return scores"
   ]
  },
  {
   "cell_type": "markdown",
   "id": "dfccac62",
   "metadata": {},
   "source": [
    "##### Random Forest Classifier"
   ]
  },
  {
   "cell_type": "code",
   "execution_count": 73,
   "id": "bd5a2cd3",
   "metadata": {},
   "outputs": [
    {
     "ename": "NameError",
     "evalue": "name 'x_train' is not defined",
     "output_type": "error",
     "traceback": [
      "\u001b[1;31m---------------------------------------------------------------------------\u001b[0m",
      "\u001b[1;31mNameError\u001b[0m                                 Traceback (most recent call last)",
      "\u001b[1;32m<ipython-input-73-f89848eb2ce4>\u001b[0m in \u001b[0;36m<module>\u001b[1;34m\u001b[0m\n\u001b[0;32m      7\u001b[0m }\n\u001b[0;32m      8\u001b[0m \u001b[0mrfc_model\u001b[0m \u001b[1;33m=\u001b[0m \u001b[0mClassifierModel\u001b[0m\u001b[1;33m(\u001b[0m\u001b[0mclf\u001b[0m\u001b[1;33m=\u001b[0m\u001b[0mRandomForestClassifier\u001b[0m\u001b[1;33m,\u001b[0m \u001b[0mparams\u001b[0m\u001b[1;33m=\u001b[0m\u001b[0mrf_params\u001b[0m\u001b[1;33m)\u001b[0m\u001b[1;33m\u001b[0m\u001b[1;33m\u001b[0m\u001b[0m\n\u001b[1;32m----> 9\u001b[1;33m \u001b[0mrfc_scores\u001b[0m \u001b[1;33m=\u001b[0m \u001b[0mtrainModel\u001b[0m\u001b[1;33m(\u001b[0m\u001b[0mrfc_model\u001b[0m\u001b[1;33m,\u001b[0m\u001b[0mx_train\u001b[0m\u001b[1;33m,\u001b[0m \u001b[0my_train\u001b[0m\u001b[1;33m,\u001b[0m \u001b[0mx_test\u001b[0m\u001b[1;33m,\u001b[0m \u001b[1;36m5\u001b[0m\u001b[1;33m,\u001b[0m \u001b[1;36m0\u001b[0m\u001b[1;33m)\u001b[0m\u001b[1;33m\u001b[0m\u001b[1;33m\u001b[0m\u001b[0m\n\u001b[0m\u001b[0;32m     10\u001b[0m \u001b[0mrfc_scores\u001b[0m\u001b[1;33m\u001b[0m\u001b[1;33m\u001b[0m\u001b[0m\n",
      "\u001b[1;31mNameError\u001b[0m: name 'x_train' is not defined"
     ]
    }
   ],
   "source": [
    "# Random Forest parameters\n",
    "rf_params = {\n",
    "    'n_estimators': 400,\n",
    "    'max_depth': 5,\n",
    "    'min_samples_leaf': 3,\n",
    "    'max_features' : 'sqrt',\n",
    "}\n",
    "rfc_model = ClassifierModel(clf=RandomForestClassifier, params=rf_params)\n",
    "rfc_scores = trainModel(rfc_model,x_train, y_train, x_test, 5, 0)\n",
    "rfc_scores"
   ]
  },
  {
   "cell_type": "markdown",
   "id": "e6a3aaec",
   "metadata": {},
   "source": [
    "##### Extra Trees Classifier"
   ]
  },
  {
   "cell_type": "code",
   "execution_count": 74,
   "id": "82a221fc",
   "metadata": {},
   "outputs": [
    {
     "ename": "NameError",
     "evalue": "name 'ExtraTreesClassifier' is not defined",
     "output_type": "error",
     "traceback": [
      "\u001b[1;31m---------------------------------------------------------------------------\u001b[0m",
      "\u001b[1;31mNameError\u001b[0m                                 Traceback (most recent call last)",
      "\u001b[1;32m<ipython-input-74-5a7231777069>\u001b[0m in \u001b[0;36m<module>\u001b[1;34m\u001b[0m\n\u001b[0;32m      6\u001b[0m    \u001b[1;34m'min_samples_leaf'\u001b[0m\u001b[1;33m:\u001b[0m \u001b[1;36m2\u001b[0m\u001b[1;33m,\u001b[0m\u001b[1;33m\u001b[0m\u001b[1;33m\u001b[0m\u001b[0m\n\u001b[0;32m      7\u001b[0m }\n\u001b[1;32m----> 8\u001b[1;33m \u001b[0metc_model\u001b[0m \u001b[1;33m=\u001b[0m \u001b[0mClassifierModel\u001b[0m\u001b[1;33m(\u001b[0m\u001b[0mclf\u001b[0m\u001b[1;33m=\u001b[0m\u001b[0mExtraTreesClassifier\u001b[0m\u001b[1;33m,\u001b[0m \u001b[0mparams\u001b[0m\u001b[1;33m=\u001b[0m\u001b[0met_params\u001b[0m\u001b[1;33m)\u001b[0m\u001b[1;33m\u001b[0m\u001b[1;33m\u001b[0m\u001b[0m\n\u001b[0m\u001b[0;32m      9\u001b[0m \u001b[0metc_scores\u001b[0m \u001b[1;33m=\u001b[0m \u001b[0mtrainModel\u001b[0m\u001b[1;33m(\u001b[0m\u001b[0metc_model\u001b[0m\u001b[1;33m,\u001b[0m\u001b[0mx_train\u001b[0m\u001b[1;33m,\u001b[0m \u001b[0my_train\u001b[0m\u001b[1;33m,\u001b[0m \u001b[0mx_test\u001b[0m\u001b[1;33m,\u001b[0m \u001b[1;36m5\u001b[0m\u001b[1;33m,\u001b[0m \u001b[1;36m0\u001b[0m\u001b[1;33m)\u001b[0m \u001b[1;31m# Random Forest\u001b[0m\u001b[1;33m\u001b[0m\u001b[1;33m\u001b[0m\u001b[0m\n\u001b[0;32m     10\u001b[0m \u001b[0metc_scores\u001b[0m\u001b[1;33m\u001b[0m\u001b[1;33m\u001b[0m\u001b[0m\n",
      "\u001b[1;31mNameError\u001b[0m: name 'ExtraTreesClassifier' is not defined"
     ]
    }
   ],
   "source": [
    " # Extra Trees Parameters\n",
    "et_params = {\n",
    "    'n_jobs': -1,\n",
    "    'n_estimators':400,\n",
    "    'max_depth': 5,\n",
    "    'min_samples_leaf': 2,\n",
    "}\n",
    "etc_model = ClassifierModel(clf=ExtraTreesClassifier, params=et_params)\n",
    "etc_scores = trainModel(etc_model,x_train, y_train, x_test, 5, 0) # Random Forest\n",
    "etc_scores"
   ]
  },
  {
   "cell_type": "markdown",
   "id": "80fd604b",
   "metadata": {},
   "source": [
    " ##### AdaBoost Classifier"
   ]
  },
  {
   "cell_type": "code",
   "execution_count": 75,
   "id": "b30e257f",
   "metadata": {},
   "outputs": [
    {
     "ename": "NameError",
     "evalue": "name 'AdaBoostClassifier' is not defined",
     "output_type": "error",
     "traceback": [
      "\u001b[1;31m---------------------------------------------------------------------------\u001b[0m",
      "\u001b[1;31mNameError\u001b[0m                                 Traceback (most recent call last)",
      "\u001b[1;32m<ipython-input-75-9bcc502e4e6c>\u001b[0m in \u001b[0;36m<module>\u001b[1;34m\u001b[0m\n\u001b[0;32m      4\u001b[0m     \u001b[1;34m'learning_rate'\u001b[0m \u001b[1;33m:\u001b[0m \u001b[1;36m0.65\u001b[0m\u001b[1;33m\u001b[0m\u001b[1;33m\u001b[0m\u001b[0m\n\u001b[0;32m      5\u001b[0m }\n\u001b[1;32m----> 6\u001b[1;33m \u001b[0mada_model\u001b[0m \u001b[1;33m=\u001b[0m \u001b[0mClassifierModel\u001b[0m\u001b[1;33m(\u001b[0m\u001b[0mclf\u001b[0m\u001b[1;33m=\u001b[0m\u001b[0mAdaBoostClassifier\u001b[0m\u001b[1;33m,\u001b[0m \u001b[0mparams\u001b[0m\u001b[1;33m=\u001b[0m\u001b[0mada_params\u001b[0m\u001b[1;33m)\u001b[0m\u001b[1;33m\u001b[0m\u001b[1;33m\u001b[0m\u001b[0m\n\u001b[0m\u001b[0;32m      7\u001b[0m \u001b[0mada_scores\u001b[0m \u001b[1;33m=\u001b[0m \u001b[0mtrainModel\u001b[0m\u001b[1;33m(\u001b[0m\u001b[0mada_model\u001b[0m\u001b[1;33m,\u001b[0m\u001b[0mx_train\u001b[0m\u001b[1;33m,\u001b[0m \u001b[0my_train\u001b[0m\u001b[1;33m,\u001b[0m \u001b[0mx_test\u001b[0m\u001b[1;33m,\u001b[0m \u001b[1;36m5\u001b[0m\u001b[1;33m,\u001b[0m \u001b[1;36m0\u001b[0m\u001b[1;33m)\u001b[0m \u001b[1;31m# Random Forest\u001b[0m\u001b[1;33m\u001b[0m\u001b[1;33m\u001b[0m\u001b[0m\n\u001b[0;32m      8\u001b[0m \u001b[0mada_scores\u001b[0m\u001b[1;33m\u001b[0m\u001b[1;33m\u001b[0m\u001b[0m\n",
      "\u001b[1;31mNameError\u001b[0m: name 'AdaBoostClassifier' is not defined"
     ]
    }
   ],
   "source": [
    "# AdaBoost parameters\n",
    "ada_params = {\n",
    "    'n_estimators': 400,\n",
    "    'learning_rate' : 0.65\n",
    "}\n",
    "ada_model = ClassifierModel(clf=AdaBoostClassifier, params=ada_params)\n",
    "ada_scores = trainModel(ada_model,x_train, y_train, x_test, 5, 0) # Random Forest\n",
    "ada_scores"
   ]
  },
  {
   "cell_type": "markdown",
   "id": "c4d5a859",
   "metadata": {},
   "source": [
    "##### XGBoost Classifier"
   ]
  },
  {
   "cell_type": "code",
   "execution_count": 76,
   "id": "d288222f",
   "metadata": {},
   "outputs": [
    {
     "data": {
      "application/javascript": "\n        if (window._pyforest_update_imports_cell) { window._pyforest_update_imports_cell('from sklearn.ensemble import GradientBoostingClassifier'); }\n    ",
      "text/plain": [
       "<IPython.core.display.Javascript object>"
      ]
     },
     "metadata": {},
     "output_type": "display_data"
    },
    {
     "ename": "NameError",
     "evalue": "name 'x_train' is not defined",
     "output_type": "error",
     "traceback": [
      "\u001b[1;31m---------------------------------------------------------------------------\u001b[0m",
      "\u001b[1;31mNameError\u001b[0m                                 Traceback (most recent call last)",
      "\u001b[1;32m<ipython-input-76-50c748bfa851>\u001b[0m in \u001b[0;36m<module>\u001b[1;34m\u001b[0m\n\u001b[0;32m      5\u001b[0m }\n\u001b[0;32m      6\u001b[0m \u001b[0mgbc_model\u001b[0m \u001b[1;33m=\u001b[0m \u001b[0mClassifierModel\u001b[0m\u001b[1;33m(\u001b[0m\u001b[0mclf\u001b[0m\u001b[1;33m=\u001b[0m\u001b[0mGradientBoostingClassifier\u001b[0m\u001b[1;33m,\u001b[0m \u001b[0mparams\u001b[0m\u001b[1;33m=\u001b[0m\u001b[0mgb_params\u001b[0m\u001b[1;33m)\u001b[0m\u001b[1;33m\u001b[0m\u001b[1;33m\u001b[0m\u001b[0m\n\u001b[1;32m----> 7\u001b[1;33m \u001b[0mgbc_scores\u001b[0m \u001b[1;33m=\u001b[0m \u001b[0mtrainModel\u001b[0m\u001b[1;33m(\u001b[0m\u001b[0mgbc_model\u001b[0m\u001b[1;33m,\u001b[0m\u001b[0mx_train\u001b[0m\u001b[1;33m,\u001b[0m \u001b[0my_train\u001b[0m\u001b[1;33m,\u001b[0m \u001b[0mx_test\u001b[0m\u001b[1;33m,\u001b[0m \u001b[1;36m5\u001b[0m\u001b[1;33m,\u001b[0m \u001b[1;36m0\u001b[0m\u001b[1;33m)\u001b[0m \u001b[1;31m# Random Forest\u001b[0m\u001b[1;33m\u001b[0m\u001b[1;33m\u001b[0m\u001b[0m\n\u001b[0m\u001b[0;32m      8\u001b[0m \u001b[0mgbc_scores\u001b[0m\u001b[1;33m\u001b[0m\u001b[1;33m\u001b[0m\u001b[0m\n",
      "\u001b[1;31mNameError\u001b[0m: name 'x_train' is not defined"
     ]
    }
   ],
   "source": [
    "# Gradient Boosting parameters\n",
    "gb_params = {\n",
    "    'n_estimators': 400,\n",
    "    'max_depth': 6,\n",
    "}\n",
    "gbc_model = ClassifierModel(clf=GradientBoostingClassifier, params=gb_params)\n",
    "gbc_scores = trainModel(gbc_model,x_train, y_train, x_test, 5, 0) # Random Forest\n",
    "gbc_scores"
   ]
  },
  {
   "cell_type": "code",
   "execution_count": 77,
   "id": "27479ea3",
   "metadata": {},
   "outputs": [
    {
     "ename": "NameError",
     "evalue": "name 'etc_train_pred' is not defined",
     "output_type": "error",
     "traceback": [
      "\u001b[1;31m---------------------------------------------------------------------------\u001b[0m",
      "\u001b[1;31mNameError\u001b[0m                                 Traceback (most recent call last)",
      "\u001b[1;32m<ipython-input-77-dc62a22d6462>\u001b[0m in \u001b[0;36m<module>\u001b[1;34m\u001b[0m\n\u001b[1;32m----> 1\u001b[1;33m \u001b[0mx_train\u001b[0m \u001b[1;33m=\u001b[0m \u001b[0mnp\u001b[0m\u001b[1;33m.\u001b[0m\u001b[0mcolumn_stack\u001b[0m\u001b[1;33m(\u001b[0m\u001b[1;33m(\u001b[0m \u001b[0metc_train_pred\u001b[0m\u001b[1;33m,\u001b[0m \u001b[0mrfc_train_pred\u001b[0m\u001b[1;33m,\u001b[0m \u001b[0mada_train_pred\u001b[0m\u001b[1;33m,\u001b[0m \u001b[0mgbc_train_pred\u001b[0m\u001b[1;33m,\u001b[0m \u001b[0msvc_train_pred\u001b[0m\u001b[1;33m)\u001b[0m\u001b[1;33m)\u001b[0m\u001b[1;33m\u001b[0m\u001b[1;33m\u001b[0m\u001b[0m\n\u001b[0m",
      "\u001b[1;31mNameError\u001b[0m: name 'etc_train_pred' is not defined"
     ]
    }
   ],
   "source": [
    "x_train = np.column_stack(( etc_train_pred, rfc_train_pred, ada_train_pred, gbc_train_pred, svc_train_pred))"
   ]
  },
  {
   "cell_type": "code",
   "execution_count": 78,
   "id": "fc45d94e",
   "metadata": {},
   "outputs": [],
   "source": [
    "def trainStackModel(x_train, y_train, x_test, n_folds, seed):\n",
    "    cv = KFold(n_splits= n_folds, random_state=seed)\n",
    "    gbm = xgb.XGBClassifier(\n",
    "     n_estimators= 2000,\n",
    "     max_depth= 4,\n",
    "     min_child_weight= 2,\n",
    "     gamma=0.9,                        \n",
    "     subsample=0.8,\n",
    "     colsample_bytree=0.8,\n",
    "     objective= 'binary:logistic',\n",
    "     scale_pos_weight=1).fit(x_train, y_train)\n",
    "    \n",
    "    scores = cross_val_score(gbm, x_train, y_train, scoring='accuracy', cv=cv)\n",
    "    return scores\n"
   ]
  },
  {
   "cell_type": "code",
   "execution_count": null,
   "id": "69177de4",
   "metadata": {},
   "outputs": [],
   "source": []
  }
 ],
 "metadata": {
  "kernelspec": {
   "display_name": "Python 3",
   "language": "python",
   "name": "python3"
  },
  "language_info": {
   "codemirror_mode": {
    "name": "ipython",
    "version": 3
   },
   "file_extension": ".py",
   "mimetype": "text/x-python",
   "name": "python",
   "nbconvert_exporter": "python",
   "pygments_lexer": "ipython3",
   "version": "3.8.8"
  },
  "papermill": {
   "default_parameters": {},
   "duration": 43.496413,
   "end_time": "2022-03-03T14:16:47.860592",
   "environment_variables": {},
   "exception": null,
   "input_path": "__notebook__.ipynb",
   "output_path": "__notebook__.ipynb",
   "parameters": {},
   "start_time": "2022-03-03T14:16:04.364179",
   "version": "2.3.3"
  }
 },
 "nbformat": 4,
 "nbformat_minor": 5
}
